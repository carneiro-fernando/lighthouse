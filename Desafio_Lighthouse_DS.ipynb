{
  "nbformat": 4,
  "nbformat_minor": 0,
  "metadata": {
    "colab": {
      "provenance": [],
      "authorship_tag": "ABX9TyNEC9N+0OW+Fsy5eBvWniq8",
      "include_colab_link": true
    },
    "kernelspec": {
      "name": "python3",
      "display_name": "Python 3"
    },
    "language_info": {
      "name": "python"
    }
  },
  "cells": [
    {
      "cell_type": "markdown",
      "metadata": {
        "id": "view-in-github",
        "colab_type": "text"
      },
      "source": [
        "<a href=\"https://colab.research.google.com/github/carneiro-fernando/lighthouse/blob/main/Desafio_Lighthouse_DS.ipynb\" target=\"_parent\"><img src=\"https://colab.research.google.com/assets/colab-badge.svg\" alt=\"Open In Colab\"/></a>"
      ]
    },
    {
      "cell_type": "markdown",
      "source": [
        "## 1. Introdução"
      ],
      "metadata": {
        "id": "OJuL7ImYz0V5"
      }
    },
    {
      "cell_type": "markdown",
      "source": [
        "### **1.1 Bibliotecas**"
      ],
      "metadata": {
        "id": "PlUehDsH0RKk"
      }
    },
    {
      "cell_type": "code",
      "source": [
        "# Importação de pacotes\n",
        "import os\n",
        "import warnings\n",
        "\n",
        "import numpy as np\n",
        "import pandas as pd\n",
        "import geopandas\n",
        "import matplotlib.pyplot as plt\n",
        "import seaborn as sns\n",
        "from shapely.geometry import Polygon, Point\n",
        "from IPython.display import Image"
      ],
      "metadata": {
        "id": "fmdhVHJN0e9X"
      },
      "execution_count": 116,
      "outputs": []
    },
    {
      "cell_type": "code",
      "source": [
        "# Desabilitar todos os avisos\n",
        "warnings.filterwarnings(\"ignore\")"
      ],
      "metadata": {
        "id": "jnQihRsjJ1TE"
      },
      "execution_count": 78,
      "outputs": []
    },
    {
      "cell_type": "markdown",
      "source": [
        "###**1.2 Importação dos Dados**"
      ],
      "metadata": {
        "id": "iAhSAJG80IhD"
      }
    },
    {
      "cell_type": "code",
      "execution_count": 2,
      "metadata": {
        "colab": {
          "base_uri": "https://localhost:8080/"
        },
        "id": "j9Kel0xftkso",
        "outputId": "94b31f42-f3f7-4dc1-f49d-a9e199982f78"
      },
      "outputs": [
        {
          "output_type": "stream",
          "name": "stdout",
          "text": [
            "--2024-02-06 22:54:25--  https://raw.githubusercontent.com/carneiro-fernando/lighthouse/main/datasource/teste_indicium_precificacao.csv\n",
            "Resolving raw.githubusercontent.com (raw.githubusercontent.com)... 185.199.108.133, 185.199.110.133, 185.199.111.133, ...\n",
            "Connecting to raw.githubusercontent.com (raw.githubusercontent.com)|185.199.108.133|:443... connected.\n",
            "HTTP request sent, awaiting response... 200 OK\n",
            "Length: 7077542 (6.7M) [text/plain]\n",
            "Saving to: ‘teste_indicium_precificacao.csv’\n",
            "\n",
            "teste_indicium_prec 100%[===================>]   6.75M  --.-KB/s    in 0.06s   \n",
            "\n",
            "2024-02-06 22:54:26 (110 MB/s) - ‘teste_indicium_precificacao.csv’ saved [7077542/7077542]\n",
            "\n"
          ]
        }
      ],
      "source": [
        "file_path = \"/content/teste_indicium_precificacao.csv\"\n",
        "\n",
        "# Baixar o arquivo caso ele não exista\n",
        "if not os.path.exists(file_path):\n",
        "    !wget https://raw.githubusercontent.com/carneiro-fernando/lighthouse/main/datasource/teste_indicium_precificacao.csv\n",
        "\n",
        "# Leitura do arquivo e criação do DataFrame\n",
        "df = pd.read_csv(file_path)"
      ]
    },
    {
      "cell_type": "markdown",
      "source": [
        "\n",
        "###**1.3 Descrição dos Dados** (*schema*)"
      ],
      "metadata": {
        "id": "4QdCNAhk0idM"
      }
    },
    {
      "cell_type": "markdown",
      "source": [
        "Abaixo segue uma tabela com a descrição de cada uma das colunas do DataFrame:\n",
        "\n",
        "\n",
        "| **Coluna** | **Nome**                   | **Descrição**                                                                      |\n",
        "|------------|------------------------------|------------------------------------------------------------------------------------|\n",
        "| 1          | id                           | Atua como uma chave exclusiva para cada anúncio nos dados do aplicativo            |\n",
        "| 2          | nome                         | Representa o nome do anúncio                                                      |\n",
        "| 3          | host_id                      | Representa o id do usuário que hospedou o anúncio                                 |\n",
        "| 4          | host_name                    | Contém o nome do usuário que hospedou o anúncio                                   |\n",
        "| 5          | bairro_group                 | Contém o nome do bairro onde o anúncio está localizado                           |\n",
        "| 6          | bairro                       | Contém o nome da área onde o anúncio está localizado                              |\n",
        "| 7          | latitude                     | Contém a latitude do local                                                        |\n",
        "| 8          | longitude                    | Contém a longitude do local                                                       |\n",
        "| 9          | room_type                    | Contém o tipo de espaço de cada anúncio                                           |\n",
        "| 10         | price                        | Contém o preço por noite em dólares listado pelo anfitrião                        |\n",
        "| 11         | minimo_noites                | Contém o número mínimo de noites que o usuário deve reservar                      |\n",
        "| 12         | numero_de_reviews            | Contém o número de comentários dados a cada listagem                               |\n",
        "| 13         | ultima_review                | Contém a data da última revisão dada à listagem                                    |\n",
        "| 14         | reviews_por_mes              | Contém o número de avaliações fornecidas por mês                                   |\n",
        "| 15         | calculado_host_listings_count| Contém a quantidade de listagem por host                                           |\n",
        "| 16         | disponibilidade_365         | Contém o número de dias em que o anúncio está disponível para reserva             |\n"
      ],
      "metadata": {
        "id": "Y7dfkijC6irr"
      }
    },
    {
      "cell_type": "markdown",
      "source": [
        "Verificação do *schema*"
      ],
      "metadata": {
        "id": "BTMU7ePt7pUQ"
      }
    },
    {
      "cell_type": "code",
      "source": [
        "df.dtypes"
      ],
      "metadata": {
        "colab": {
          "base_uri": "https://localhost:8080/"
        },
        "id": "SKJpNUdk718X",
        "outputId": "a3ed5c19-7ff0-45d7-9457-b257f7b52003"
      },
      "execution_count": 3,
      "outputs": [
        {
          "output_type": "execute_result",
          "data": {
            "text/plain": [
              "id                                 int64\n",
              "nome                              object\n",
              "host_id                            int64\n",
              "host_name                         object\n",
              "bairro_group                      object\n",
              "bairro                            object\n",
              "latitude                         float64\n",
              "longitude                        float64\n",
              "room_type                         object\n",
              "price                              int64\n",
              "minimo_noites                      int64\n",
              "numero_de_reviews                  int64\n",
              "ultima_review                     object\n",
              "reviews_por_mes                  float64\n",
              "calculado_host_listings_count      int64\n",
              "disponibilidade_365                int64\n",
              "dtype: object"
            ]
          },
          "metadata": {},
          "execution_count": 3
        }
      ]
    },
    {
      "cell_type": "code",
      "source": [
        "print(f'Esses são os tipos de dados presentes: {df.dtypes.unique()}')\n"
      ],
      "metadata": {
        "colab": {
          "base_uri": "https://localhost:8080/"
        },
        "id": "x3Tsmr8NqN9R",
        "outputId": "67b8e55a-18c0-47db-b858-e17cc6233351"
      },
      "execution_count": 28,
      "outputs": [
        {
          "output_type": "stream",
          "name": "stdout",
          "text": [
            "Esses são os tipos de dados presentes: [dtype('int64') dtype('O') dtype('float64')]\n"
          ]
        }
      ]
    },
    {
      "cell_type": "markdown",
      "source": [
        "## 2. Análise Exploratória dos Dados"
      ],
      "metadata": {
        "id": "3Z-SH8cx34XI"
      }
    },
    {
      "cell_type": "markdown",
      "source": [
        "###**2.1 Wrangling**"
      ],
      "metadata": {
        "id": "uRBVfE_H5Fhy"
      }
    },
    {
      "cell_type": "markdown",
      "source": [
        "Checando o número de linhas e colunas que estão presentes no DataFrame criado:"
      ],
      "metadata": {
        "id": "kNdWMt2458qh"
      }
    },
    {
      "cell_type": "code",
      "source": [
        "shape = df.shape\n",
        "print(f\"O DataFrame tem {shape[1]} colunas e {shape[0]} linhas.\")"
      ],
      "metadata": {
        "colab": {
          "base_uri": "https://localhost:8080/"
        },
        "id": "0RuDRJve5Xwr",
        "outputId": "4a97995e-980f-4b72-ceb9-19158bcd5c1e"
      },
      "execution_count": 4,
      "outputs": [
        {
          "output_type": "stream",
          "name": "stdout",
          "text": [
            "O DataFrame tem 16 colunas e 48894 linhas.\n"
          ]
        }
      ]
    },
    {
      "cell_type": "markdown",
      "source": [
        "Investigação se há dados nulos presentes:"
      ],
      "metadata": {
        "id": "2PG9rqea7Bp-"
      }
    },
    {
      "cell_type": "code",
      "source": [
        "df.isnull().sum()"
      ],
      "metadata": {
        "colab": {
          "base_uri": "https://localhost:8080/"
        },
        "id": "8lavIgpR50PU",
        "outputId": "c826ea36-dffd-49eb-d11a-fc9a10fb73a6"
      },
      "execution_count": 5,
      "outputs": [
        {
          "output_type": "execute_result",
          "data": {
            "text/plain": [
              "id                                   0\n",
              "nome                                16\n",
              "host_id                              0\n",
              "host_name                           21\n",
              "bairro_group                         0\n",
              "bairro                               0\n",
              "latitude                             0\n",
              "longitude                            0\n",
              "room_type                            0\n",
              "price                                0\n",
              "minimo_noites                        0\n",
              "numero_de_reviews                    0\n",
              "ultima_review                    10052\n",
              "reviews_por_mes                  10052\n",
              "calculado_host_listings_count        0\n",
              "disponibilidade_365                  0\n",
              "dtype: int64"
            ]
          },
          "metadata": {},
          "execution_count": 5
        }
      ]
    },
    {
      "cell_type": "markdown",
      "source": [
        "Analisando as linhas nulas:"
      ],
      "metadata": {
        "id": "wCbnVp-a-mmQ"
      }
    },
    {
      "cell_type": "code",
      "source": [
        "df[df.isnull().any(axis=1)]"
      ],
      "metadata": {
        "colab": {
          "base_uri": "https://localhost:8080/",
          "height": 843
        },
        "id": "SZXqqUWL7XDH",
        "outputId": "d1372e17-6714-4a40-8df5-38639ae7c1ed"
      },
      "execution_count": 6,
      "outputs": [
        {
          "output_type": "execute_result",
          "data": {
            "text/plain": [
              "             id                                               nome   host_id  \\\n",
              "1          3647                THE VILLAGE OF HARLEM....NEW YORK !      4632   \n",
              "18         7750                  Huge 2 BR Upper East  Cental Park     17985   \n",
              "25         8700  Magnifique Suite au N de Manhattan - vue Cloitres     26394   \n",
              "35        11452                        Clean and Quiet in Brooklyn      7355   \n",
              "37        11943                          Country space in the city     45445   \n",
              "...         ...                                                ...       ...   \n",
              "48889  36484665    Charming one bedroom - newly renovated rowhouse   8232441   \n",
              "48890  36485057      Affordable room in Bushwick/East Williamsburg   6570630   \n",
              "48891  36485431            Sunny Studio at Historical Neighborhood  23492952   \n",
              "48892  36485609               43rd St. Time Square-cozy single bed  30985759   \n",
              "48893  36487245  Trendy duplex in the very heart of Hell's Kitchen  68119814   \n",
              "\n",
              "             host_name bairro_group              bairro  latitude  longitude  \\\n",
              "1            Elisabeth    Manhattan              Harlem  40.80902  -73.94190   \n",
              "18                Sing    Manhattan         East Harlem  40.79685  -73.94872   \n",
              "25     Claude & Sophie    Manhattan              Inwood  40.86754  -73.92639   \n",
              "35                  Vt     Brooklyn  Bedford-Stuyvesant  40.68876  -73.94312   \n",
              "37             Harriet     Brooklyn            Flatbush  40.63702  -73.96327   \n",
              "...                ...          ...                 ...       ...        ...   \n",
              "48889          Sabrina     Brooklyn  Bedford-Stuyvesant  40.67853  -73.94995   \n",
              "48890          Marisol     Brooklyn            Bushwick  40.70184  -73.93317   \n",
              "48891    Ilgar & Aysel    Manhattan              Harlem  40.81475  -73.94867   \n",
              "48892              Taz    Manhattan      Hell's Kitchen  40.75751  -73.99112   \n",
              "48893       Christophe    Manhattan      Hell's Kitchen  40.76404  -73.98933   \n",
              "\n",
              "             room_type  price  minimo_noites  numero_de_reviews ultima_review  \\\n",
              "1         Private room    150              3                  0           NaN   \n",
              "18     Entire home/apt    190              7                  0           NaN   \n",
              "25        Private room     80              4                  0           NaN   \n",
              "35        Private room     35             60                  0           NaN   \n",
              "37        Private room    150              1                  0           NaN   \n",
              "...                ...    ...            ...                ...           ...   \n",
              "48889     Private room     70              2                  0           NaN   \n",
              "48890     Private room     40              4                  0           NaN   \n",
              "48891  Entire home/apt    115             10                  0           NaN   \n",
              "48892      Shared room     55              1                  0           NaN   \n",
              "48893     Private room     90              7                  0           NaN   \n",
              "\n",
              "       reviews_por_mes  calculado_host_listings_count  disponibilidade_365  \n",
              "1                  NaN                              1                  365  \n",
              "18                 NaN                              2                  249  \n",
              "25                 NaN                              1                    0  \n",
              "35                 NaN                              1                  365  \n",
              "37                 NaN                              1                  365  \n",
              "...                ...                            ...                  ...  \n",
              "48889              NaN                              2                    9  \n",
              "48890              NaN                              2                   36  \n",
              "48891              NaN                              1                   27  \n",
              "48892              NaN                              6                    2  \n",
              "48893              NaN                              1                   23  \n",
              "\n",
              "[10074 rows x 16 columns]"
            ],
            "text/html": [
              "\n",
              "  <div id=\"df-dc287016-7c09-436f-9714-9089a34129f9\" class=\"colab-df-container\">\n",
              "    <div>\n",
              "<style scoped>\n",
              "    .dataframe tbody tr th:only-of-type {\n",
              "        vertical-align: middle;\n",
              "    }\n",
              "\n",
              "    .dataframe tbody tr th {\n",
              "        vertical-align: top;\n",
              "    }\n",
              "\n",
              "    .dataframe thead th {\n",
              "        text-align: right;\n",
              "    }\n",
              "</style>\n",
              "<table border=\"1\" class=\"dataframe\">\n",
              "  <thead>\n",
              "    <tr style=\"text-align: right;\">\n",
              "      <th></th>\n",
              "      <th>id</th>\n",
              "      <th>nome</th>\n",
              "      <th>host_id</th>\n",
              "      <th>host_name</th>\n",
              "      <th>bairro_group</th>\n",
              "      <th>bairro</th>\n",
              "      <th>latitude</th>\n",
              "      <th>longitude</th>\n",
              "      <th>room_type</th>\n",
              "      <th>price</th>\n",
              "      <th>minimo_noites</th>\n",
              "      <th>numero_de_reviews</th>\n",
              "      <th>ultima_review</th>\n",
              "      <th>reviews_por_mes</th>\n",
              "      <th>calculado_host_listings_count</th>\n",
              "      <th>disponibilidade_365</th>\n",
              "    </tr>\n",
              "  </thead>\n",
              "  <tbody>\n",
              "    <tr>\n",
              "      <th>1</th>\n",
              "      <td>3647</td>\n",
              "      <td>THE VILLAGE OF HARLEM....NEW YORK !</td>\n",
              "      <td>4632</td>\n",
              "      <td>Elisabeth</td>\n",
              "      <td>Manhattan</td>\n",
              "      <td>Harlem</td>\n",
              "      <td>40.80902</td>\n",
              "      <td>-73.94190</td>\n",
              "      <td>Private room</td>\n",
              "      <td>150</td>\n",
              "      <td>3</td>\n",
              "      <td>0</td>\n",
              "      <td>NaN</td>\n",
              "      <td>NaN</td>\n",
              "      <td>1</td>\n",
              "      <td>365</td>\n",
              "    </tr>\n",
              "    <tr>\n",
              "      <th>18</th>\n",
              "      <td>7750</td>\n",
              "      <td>Huge 2 BR Upper East  Cental Park</td>\n",
              "      <td>17985</td>\n",
              "      <td>Sing</td>\n",
              "      <td>Manhattan</td>\n",
              "      <td>East Harlem</td>\n",
              "      <td>40.79685</td>\n",
              "      <td>-73.94872</td>\n",
              "      <td>Entire home/apt</td>\n",
              "      <td>190</td>\n",
              "      <td>7</td>\n",
              "      <td>0</td>\n",
              "      <td>NaN</td>\n",
              "      <td>NaN</td>\n",
              "      <td>2</td>\n",
              "      <td>249</td>\n",
              "    </tr>\n",
              "    <tr>\n",
              "      <th>25</th>\n",
              "      <td>8700</td>\n",
              "      <td>Magnifique Suite au N de Manhattan - vue Cloitres</td>\n",
              "      <td>26394</td>\n",
              "      <td>Claude &amp; Sophie</td>\n",
              "      <td>Manhattan</td>\n",
              "      <td>Inwood</td>\n",
              "      <td>40.86754</td>\n",
              "      <td>-73.92639</td>\n",
              "      <td>Private room</td>\n",
              "      <td>80</td>\n",
              "      <td>4</td>\n",
              "      <td>0</td>\n",
              "      <td>NaN</td>\n",
              "      <td>NaN</td>\n",
              "      <td>1</td>\n",
              "      <td>0</td>\n",
              "    </tr>\n",
              "    <tr>\n",
              "      <th>35</th>\n",
              "      <td>11452</td>\n",
              "      <td>Clean and Quiet in Brooklyn</td>\n",
              "      <td>7355</td>\n",
              "      <td>Vt</td>\n",
              "      <td>Brooklyn</td>\n",
              "      <td>Bedford-Stuyvesant</td>\n",
              "      <td>40.68876</td>\n",
              "      <td>-73.94312</td>\n",
              "      <td>Private room</td>\n",
              "      <td>35</td>\n",
              "      <td>60</td>\n",
              "      <td>0</td>\n",
              "      <td>NaN</td>\n",
              "      <td>NaN</td>\n",
              "      <td>1</td>\n",
              "      <td>365</td>\n",
              "    </tr>\n",
              "    <tr>\n",
              "      <th>37</th>\n",
              "      <td>11943</td>\n",
              "      <td>Country space in the city</td>\n",
              "      <td>45445</td>\n",
              "      <td>Harriet</td>\n",
              "      <td>Brooklyn</td>\n",
              "      <td>Flatbush</td>\n",
              "      <td>40.63702</td>\n",
              "      <td>-73.96327</td>\n",
              "      <td>Private room</td>\n",
              "      <td>150</td>\n",
              "      <td>1</td>\n",
              "      <td>0</td>\n",
              "      <td>NaN</td>\n",
              "      <td>NaN</td>\n",
              "      <td>1</td>\n",
              "      <td>365</td>\n",
              "    </tr>\n",
              "    <tr>\n",
              "      <th>...</th>\n",
              "      <td>...</td>\n",
              "      <td>...</td>\n",
              "      <td>...</td>\n",
              "      <td>...</td>\n",
              "      <td>...</td>\n",
              "      <td>...</td>\n",
              "      <td>...</td>\n",
              "      <td>...</td>\n",
              "      <td>...</td>\n",
              "      <td>...</td>\n",
              "      <td>...</td>\n",
              "      <td>...</td>\n",
              "      <td>...</td>\n",
              "      <td>...</td>\n",
              "      <td>...</td>\n",
              "      <td>...</td>\n",
              "    </tr>\n",
              "    <tr>\n",
              "      <th>48889</th>\n",
              "      <td>36484665</td>\n",
              "      <td>Charming one bedroom - newly renovated rowhouse</td>\n",
              "      <td>8232441</td>\n",
              "      <td>Sabrina</td>\n",
              "      <td>Brooklyn</td>\n",
              "      <td>Bedford-Stuyvesant</td>\n",
              "      <td>40.67853</td>\n",
              "      <td>-73.94995</td>\n",
              "      <td>Private room</td>\n",
              "      <td>70</td>\n",
              "      <td>2</td>\n",
              "      <td>0</td>\n",
              "      <td>NaN</td>\n",
              "      <td>NaN</td>\n",
              "      <td>2</td>\n",
              "      <td>9</td>\n",
              "    </tr>\n",
              "    <tr>\n",
              "      <th>48890</th>\n",
              "      <td>36485057</td>\n",
              "      <td>Affordable room in Bushwick/East Williamsburg</td>\n",
              "      <td>6570630</td>\n",
              "      <td>Marisol</td>\n",
              "      <td>Brooklyn</td>\n",
              "      <td>Bushwick</td>\n",
              "      <td>40.70184</td>\n",
              "      <td>-73.93317</td>\n",
              "      <td>Private room</td>\n",
              "      <td>40</td>\n",
              "      <td>4</td>\n",
              "      <td>0</td>\n",
              "      <td>NaN</td>\n",
              "      <td>NaN</td>\n",
              "      <td>2</td>\n",
              "      <td>36</td>\n",
              "    </tr>\n",
              "    <tr>\n",
              "      <th>48891</th>\n",
              "      <td>36485431</td>\n",
              "      <td>Sunny Studio at Historical Neighborhood</td>\n",
              "      <td>23492952</td>\n",
              "      <td>Ilgar &amp; Aysel</td>\n",
              "      <td>Manhattan</td>\n",
              "      <td>Harlem</td>\n",
              "      <td>40.81475</td>\n",
              "      <td>-73.94867</td>\n",
              "      <td>Entire home/apt</td>\n",
              "      <td>115</td>\n",
              "      <td>10</td>\n",
              "      <td>0</td>\n",
              "      <td>NaN</td>\n",
              "      <td>NaN</td>\n",
              "      <td>1</td>\n",
              "      <td>27</td>\n",
              "    </tr>\n",
              "    <tr>\n",
              "      <th>48892</th>\n",
              "      <td>36485609</td>\n",
              "      <td>43rd St. Time Square-cozy single bed</td>\n",
              "      <td>30985759</td>\n",
              "      <td>Taz</td>\n",
              "      <td>Manhattan</td>\n",
              "      <td>Hell's Kitchen</td>\n",
              "      <td>40.75751</td>\n",
              "      <td>-73.99112</td>\n",
              "      <td>Shared room</td>\n",
              "      <td>55</td>\n",
              "      <td>1</td>\n",
              "      <td>0</td>\n",
              "      <td>NaN</td>\n",
              "      <td>NaN</td>\n",
              "      <td>6</td>\n",
              "      <td>2</td>\n",
              "    </tr>\n",
              "    <tr>\n",
              "      <th>48893</th>\n",
              "      <td>36487245</td>\n",
              "      <td>Trendy duplex in the very heart of Hell's Kitchen</td>\n",
              "      <td>68119814</td>\n",
              "      <td>Christophe</td>\n",
              "      <td>Manhattan</td>\n",
              "      <td>Hell's Kitchen</td>\n",
              "      <td>40.76404</td>\n",
              "      <td>-73.98933</td>\n",
              "      <td>Private room</td>\n",
              "      <td>90</td>\n",
              "      <td>7</td>\n",
              "      <td>0</td>\n",
              "      <td>NaN</td>\n",
              "      <td>NaN</td>\n",
              "      <td>1</td>\n",
              "      <td>23</td>\n",
              "    </tr>\n",
              "  </tbody>\n",
              "</table>\n",
              "<p>10074 rows × 16 columns</p>\n",
              "</div>\n",
              "    <div class=\"colab-df-buttons\">\n",
              "\n",
              "  <div class=\"colab-df-container\">\n",
              "    <button class=\"colab-df-convert\" onclick=\"convertToInteractive('df-dc287016-7c09-436f-9714-9089a34129f9')\"\n",
              "            title=\"Convert this dataframe to an interactive table.\"\n",
              "            style=\"display:none;\">\n",
              "\n",
              "  <svg xmlns=\"http://www.w3.org/2000/svg\" height=\"24px\" viewBox=\"0 -960 960 960\">\n",
              "    <path d=\"M120-120v-720h720v720H120Zm60-500h600v-160H180v160Zm220 220h160v-160H400v160Zm0 220h160v-160H400v160ZM180-400h160v-160H180v160Zm440 0h160v-160H620v160ZM180-180h160v-160H180v160Zm440 0h160v-160H620v160Z\"/>\n",
              "  </svg>\n",
              "    </button>\n",
              "\n",
              "  <style>\n",
              "    .colab-df-container {\n",
              "      display:flex;\n",
              "      gap: 12px;\n",
              "    }\n",
              "\n",
              "    .colab-df-convert {\n",
              "      background-color: #E8F0FE;\n",
              "      border: none;\n",
              "      border-radius: 50%;\n",
              "      cursor: pointer;\n",
              "      display: none;\n",
              "      fill: #1967D2;\n",
              "      height: 32px;\n",
              "      padding: 0 0 0 0;\n",
              "      width: 32px;\n",
              "    }\n",
              "\n",
              "    .colab-df-convert:hover {\n",
              "      background-color: #E2EBFA;\n",
              "      box-shadow: 0px 1px 2px rgba(60, 64, 67, 0.3), 0px 1px 3px 1px rgba(60, 64, 67, 0.15);\n",
              "      fill: #174EA6;\n",
              "    }\n",
              "\n",
              "    .colab-df-buttons div {\n",
              "      margin-bottom: 4px;\n",
              "    }\n",
              "\n",
              "    [theme=dark] .colab-df-convert {\n",
              "      background-color: #3B4455;\n",
              "      fill: #D2E3FC;\n",
              "    }\n",
              "\n",
              "    [theme=dark] .colab-df-convert:hover {\n",
              "      background-color: #434B5C;\n",
              "      box-shadow: 0px 1px 3px 1px rgba(0, 0, 0, 0.15);\n",
              "      filter: drop-shadow(0px 1px 2px rgba(0, 0, 0, 0.3));\n",
              "      fill: #FFFFFF;\n",
              "    }\n",
              "  </style>\n",
              "\n",
              "    <script>\n",
              "      const buttonEl =\n",
              "        document.querySelector('#df-dc287016-7c09-436f-9714-9089a34129f9 button.colab-df-convert');\n",
              "      buttonEl.style.display =\n",
              "        google.colab.kernel.accessAllowed ? 'block' : 'none';\n",
              "\n",
              "      async function convertToInteractive(key) {\n",
              "        const element = document.querySelector('#df-dc287016-7c09-436f-9714-9089a34129f9');\n",
              "        const dataTable =\n",
              "          await google.colab.kernel.invokeFunction('convertToInteractive',\n",
              "                                                    [key], {});\n",
              "        if (!dataTable) return;\n",
              "\n",
              "        const docLinkHtml = 'Like what you see? Visit the ' +\n",
              "          '<a target=\"_blank\" href=https://colab.research.google.com/notebooks/data_table.ipynb>data table notebook</a>'\n",
              "          + ' to learn more about interactive tables.';\n",
              "        element.innerHTML = '';\n",
              "        dataTable['output_type'] = 'display_data';\n",
              "        await google.colab.output.renderOutput(dataTable, element);\n",
              "        const docLink = document.createElement('div');\n",
              "        docLink.innerHTML = docLinkHtml;\n",
              "        element.appendChild(docLink);\n",
              "      }\n",
              "    </script>\n",
              "  </div>\n",
              "\n",
              "\n",
              "<div id=\"df-27d31c5a-9ae9-4903-8266-9418ce15f44b\">\n",
              "  <button class=\"colab-df-quickchart\" onclick=\"quickchart('df-27d31c5a-9ae9-4903-8266-9418ce15f44b')\"\n",
              "            title=\"Suggest charts\"\n",
              "            style=\"display:none;\">\n",
              "\n",
              "<svg xmlns=\"http://www.w3.org/2000/svg\" height=\"24px\"viewBox=\"0 0 24 24\"\n",
              "     width=\"24px\">\n",
              "    <g>\n",
              "        <path d=\"M19 3H5c-1.1 0-2 .9-2 2v14c0 1.1.9 2 2 2h14c1.1 0 2-.9 2-2V5c0-1.1-.9-2-2-2zM9 17H7v-7h2v7zm4 0h-2V7h2v10zm4 0h-2v-4h2v4z\"/>\n",
              "    </g>\n",
              "</svg>\n",
              "  </button>\n",
              "\n",
              "<style>\n",
              "  .colab-df-quickchart {\n",
              "      --bg-color: #E8F0FE;\n",
              "      --fill-color: #1967D2;\n",
              "      --hover-bg-color: #E2EBFA;\n",
              "      --hover-fill-color: #174EA6;\n",
              "      --disabled-fill-color: #AAA;\n",
              "      --disabled-bg-color: #DDD;\n",
              "  }\n",
              "\n",
              "  [theme=dark] .colab-df-quickchart {\n",
              "      --bg-color: #3B4455;\n",
              "      --fill-color: #D2E3FC;\n",
              "      --hover-bg-color: #434B5C;\n",
              "      --hover-fill-color: #FFFFFF;\n",
              "      --disabled-bg-color: #3B4455;\n",
              "      --disabled-fill-color: #666;\n",
              "  }\n",
              "\n",
              "  .colab-df-quickchart {\n",
              "    background-color: var(--bg-color);\n",
              "    border: none;\n",
              "    border-radius: 50%;\n",
              "    cursor: pointer;\n",
              "    display: none;\n",
              "    fill: var(--fill-color);\n",
              "    height: 32px;\n",
              "    padding: 0;\n",
              "    width: 32px;\n",
              "  }\n",
              "\n",
              "  .colab-df-quickchart:hover {\n",
              "    background-color: var(--hover-bg-color);\n",
              "    box-shadow: 0 1px 2px rgba(60, 64, 67, 0.3), 0 1px 3px 1px rgba(60, 64, 67, 0.15);\n",
              "    fill: var(--button-hover-fill-color);\n",
              "  }\n",
              "\n",
              "  .colab-df-quickchart-complete:disabled,\n",
              "  .colab-df-quickchart-complete:disabled:hover {\n",
              "    background-color: var(--disabled-bg-color);\n",
              "    fill: var(--disabled-fill-color);\n",
              "    box-shadow: none;\n",
              "  }\n",
              "\n",
              "  .colab-df-spinner {\n",
              "    border: 2px solid var(--fill-color);\n",
              "    border-color: transparent;\n",
              "    border-bottom-color: var(--fill-color);\n",
              "    animation:\n",
              "      spin 1s steps(1) infinite;\n",
              "  }\n",
              "\n",
              "  @keyframes spin {\n",
              "    0% {\n",
              "      border-color: transparent;\n",
              "      border-bottom-color: var(--fill-color);\n",
              "      border-left-color: var(--fill-color);\n",
              "    }\n",
              "    20% {\n",
              "      border-color: transparent;\n",
              "      border-left-color: var(--fill-color);\n",
              "      border-top-color: var(--fill-color);\n",
              "    }\n",
              "    30% {\n",
              "      border-color: transparent;\n",
              "      border-left-color: var(--fill-color);\n",
              "      border-top-color: var(--fill-color);\n",
              "      border-right-color: var(--fill-color);\n",
              "    }\n",
              "    40% {\n",
              "      border-color: transparent;\n",
              "      border-right-color: var(--fill-color);\n",
              "      border-top-color: var(--fill-color);\n",
              "    }\n",
              "    60% {\n",
              "      border-color: transparent;\n",
              "      border-right-color: var(--fill-color);\n",
              "    }\n",
              "    80% {\n",
              "      border-color: transparent;\n",
              "      border-right-color: var(--fill-color);\n",
              "      border-bottom-color: var(--fill-color);\n",
              "    }\n",
              "    90% {\n",
              "      border-color: transparent;\n",
              "      border-bottom-color: var(--fill-color);\n",
              "    }\n",
              "  }\n",
              "</style>\n",
              "\n",
              "  <script>\n",
              "    async function quickchart(key) {\n",
              "      const quickchartButtonEl =\n",
              "        document.querySelector('#' + key + ' button');\n",
              "      quickchartButtonEl.disabled = true;  // To prevent multiple clicks.\n",
              "      quickchartButtonEl.classList.add('colab-df-spinner');\n",
              "      try {\n",
              "        const charts = await google.colab.kernel.invokeFunction(\n",
              "            'suggestCharts', [key], {});\n",
              "      } catch (error) {\n",
              "        console.error('Error during call to suggestCharts:', error);\n",
              "      }\n",
              "      quickchartButtonEl.classList.remove('colab-df-spinner');\n",
              "      quickchartButtonEl.classList.add('colab-df-quickchart-complete');\n",
              "    }\n",
              "    (() => {\n",
              "      let quickchartButtonEl =\n",
              "        document.querySelector('#df-27d31c5a-9ae9-4903-8266-9418ce15f44b button');\n",
              "      quickchartButtonEl.style.display =\n",
              "        google.colab.kernel.accessAllowed ? 'block' : 'none';\n",
              "    })();\n",
              "  </script>\n",
              "</div>\n",
              "\n",
              "    </div>\n",
              "  </div>\n"
            ]
          },
          "metadata": {},
          "execution_count": 6
        }
      ]
    },
    {
      "cell_type": "markdown",
      "source": [
        "Perceba que a maioria dos dados nulos são referentes à colunas de avaliação (*review* ) da propriedade. Temos três opções:\n",
        "\n",
        "*   Excluir todas as linhas com valores nulos.\n",
        "*   Preencher esses valores com uma média ou técnica estatística.\n",
        "*   Preencher esses valores com zero.\n",
        "\n",
        "A opção mais apropriada é o preenchimento com o número **zero**, pois reflete com maior precisão a verdadeira condição do dados. Isso porque a coluna *numero_de_reviews* deixa claro que os dados nulos são devido à ausência de avaliação, que corresponde corretamente à quantidade zero, essa informação está correta e não há impacto negativo na análise.\n",
        "\n"
      ],
      "metadata": {
        "id": "7AKcqqNT-vVV"
      }
    },
    {
      "cell_type": "markdown",
      "source": [
        "Limpeza dos dados das colunas de *reviews*."
      ],
      "metadata": {
        "id": "_yawQV_SAsT9"
      }
    },
    {
      "source": [
        "df[['ultima_review', 'reviews_por_mes']] = df[['ultima_review', 'reviews_por_mes']].fillna(0)"
      ],
      "cell_type": "code",
      "metadata": {
        "id": "T1uITWZEBlpg"
      },
      "execution_count": 7,
      "outputs": []
    },
    {
      "cell_type": "markdown",
      "source": [
        "Conferir se a limpeza foi bem sucedida e analisar os outros dados nulos:"
      ],
      "metadata": {
        "id": "QWlKn0oqCIdV"
      }
    },
    {
      "cell_type": "code",
      "source": [
        "df.isnull().sum()"
      ],
      "metadata": {
        "colab": {
          "base_uri": "https://localhost:8080/"
        },
        "id": "o3vFBcN-CRZ6",
        "outputId": "8da03066-1fe3-40f8-df5c-f41131db3f4a"
      },
      "execution_count": 8,
      "outputs": [
        {
          "output_type": "execute_result",
          "data": {
            "text/plain": [
              "id                                0\n",
              "nome                             16\n",
              "host_id                           0\n",
              "host_name                        21\n",
              "bairro_group                      0\n",
              "bairro                            0\n",
              "latitude                          0\n",
              "longitude                         0\n",
              "room_type                         0\n",
              "price                             0\n",
              "minimo_noites                     0\n",
              "numero_de_reviews                 0\n",
              "ultima_review                     0\n",
              "reviews_por_mes                   0\n",
              "calculado_host_listings_count     0\n",
              "disponibilidade_365               0\n",
              "dtype: int64"
            ]
          },
          "metadata": {},
          "execution_count": 8
        }
      ]
    },
    {
      "cell_type": "code",
      "source": [
        "df[df.isnull().any(axis=1)]"
      ],
      "metadata": {
        "colab": {
          "base_uri": "https://localhost:8080/",
          "height": 73
        },
        "id": "3__YtLrRCSHI",
        "outputId": "8e1a657a-775b-41a8-b0e3-f1a970bf3bb1"
      },
      "execution_count": 16,
      "outputs": [
        {
          "output_type": "execute_result",
          "data": {
            "text/plain": [
              "Empty DataFrame\n",
              "Columns: [id, nome, host_id, host_name, bairro_group, bairro, latitude, longitude, room_type, price, minimo_noites, numero_de_reviews, ultima_review, reviews_por_mes, calculado_host_listings_count, disponibilidade_365]\n",
              "Index: []"
            ],
            "text/html": [
              "\n",
              "  <div id=\"df-db833c91-95d2-4228-9c44-9d244eec13c4\" class=\"colab-df-container\">\n",
              "    <div>\n",
              "<style scoped>\n",
              "    .dataframe tbody tr th:only-of-type {\n",
              "        vertical-align: middle;\n",
              "    }\n",
              "\n",
              "    .dataframe tbody tr th {\n",
              "        vertical-align: top;\n",
              "    }\n",
              "\n",
              "    .dataframe thead th {\n",
              "        text-align: right;\n",
              "    }\n",
              "</style>\n",
              "<table border=\"1\" class=\"dataframe\">\n",
              "  <thead>\n",
              "    <tr style=\"text-align: right;\">\n",
              "      <th></th>\n",
              "      <th>id</th>\n",
              "      <th>nome</th>\n",
              "      <th>host_id</th>\n",
              "      <th>host_name</th>\n",
              "      <th>bairro_group</th>\n",
              "      <th>bairro</th>\n",
              "      <th>latitude</th>\n",
              "      <th>longitude</th>\n",
              "      <th>room_type</th>\n",
              "      <th>price</th>\n",
              "      <th>minimo_noites</th>\n",
              "      <th>numero_de_reviews</th>\n",
              "      <th>ultima_review</th>\n",
              "      <th>reviews_por_mes</th>\n",
              "      <th>calculado_host_listings_count</th>\n",
              "      <th>disponibilidade_365</th>\n",
              "    </tr>\n",
              "  </thead>\n",
              "  <tbody>\n",
              "  </tbody>\n",
              "</table>\n",
              "</div>\n",
              "    <div class=\"colab-df-buttons\">\n",
              "\n",
              "  <div class=\"colab-df-container\">\n",
              "    <button class=\"colab-df-convert\" onclick=\"convertToInteractive('df-db833c91-95d2-4228-9c44-9d244eec13c4')\"\n",
              "            title=\"Convert this dataframe to an interactive table.\"\n",
              "            style=\"display:none;\">\n",
              "\n",
              "  <svg xmlns=\"http://www.w3.org/2000/svg\" height=\"24px\" viewBox=\"0 -960 960 960\">\n",
              "    <path d=\"M120-120v-720h720v720H120Zm60-500h600v-160H180v160Zm220 220h160v-160H400v160Zm0 220h160v-160H400v160ZM180-400h160v-160H180v160Zm440 0h160v-160H620v160ZM180-180h160v-160H180v160Zm440 0h160v-160H620v160Z\"/>\n",
              "  </svg>\n",
              "    </button>\n",
              "\n",
              "  <style>\n",
              "    .colab-df-container {\n",
              "      display:flex;\n",
              "      gap: 12px;\n",
              "    }\n",
              "\n",
              "    .colab-df-convert {\n",
              "      background-color: #E8F0FE;\n",
              "      border: none;\n",
              "      border-radius: 50%;\n",
              "      cursor: pointer;\n",
              "      display: none;\n",
              "      fill: #1967D2;\n",
              "      height: 32px;\n",
              "      padding: 0 0 0 0;\n",
              "      width: 32px;\n",
              "    }\n",
              "\n",
              "    .colab-df-convert:hover {\n",
              "      background-color: #E2EBFA;\n",
              "      box-shadow: 0px 1px 2px rgba(60, 64, 67, 0.3), 0px 1px 3px 1px rgba(60, 64, 67, 0.15);\n",
              "      fill: #174EA6;\n",
              "    }\n",
              "\n",
              "    .colab-df-buttons div {\n",
              "      margin-bottom: 4px;\n",
              "    }\n",
              "\n",
              "    [theme=dark] .colab-df-convert {\n",
              "      background-color: #3B4455;\n",
              "      fill: #D2E3FC;\n",
              "    }\n",
              "\n",
              "    [theme=dark] .colab-df-convert:hover {\n",
              "      background-color: #434B5C;\n",
              "      box-shadow: 0px 1px 3px 1px rgba(0, 0, 0, 0.15);\n",
              "      filter: drop-shadow(0px 1px 2px rgba(0, 0, 0, 0.3));\n",
              "      fill: #FFFFFF;\n",
              "    }\n",
              "  </style>\n",
              "\n",
              "    <script>\n",
              "      const buttonEl =\n",
              "        document.querySelector('#df-db833c91-95d2-4228-9c44-9d244eec13c4 button.colab-df-convert');\n",
              "      buttonEl.style.display =\n",
              "        google.colab.kernel.accessAllowed ? 'block' : 'none';\n",
              "\n",
              "      async function convertToInteractive(key) {\n",
              "        const element = document.querySelector('#df-db833c91-95d2-4228-9c44-9d244eec13c4');\n",
              "        const dataTable =\n",
              "          await google.colab.kernel.invokeFunction('convertToInteractive',\n",
              "                                                    [key], {});\n",
              "        if (!dataTable) return;\n",
              "\n",
              "        const docLinkHtml = 'Like what you see? Visit the ' +\n",
              "          '<a target=\"_blank\" href=https://colab.research.google.com/notebooks/data_table.ipynb>data table notebook</a>'\n",
              "          + ' to learn more about interactive tables.';\n",
              "        element.innerHTML = '';\n",
              "        dataTable['output_type'] = 'display_data';\n",
              "        await google.colab.output.renderOutput(dataTable, element);\n",
              "        const docLink = document.createElement('div');\n",
              "        docLink.innerHTML = docLinkHtml;\n",
              "        element.appendChild(docLink);\n",
              "      }\n",
              "    </script>\n",
              "  </div>\n",
              "\n",
              "\n",
              "    </div>\n",
              "  </div>\n"
            ]
          },
          "metadata": {},
          "execution_count": 16
        }
      ]
    },
    {
      "cell_type": "markdown",
      "source": [
        "Os valores nulos se referem agora ao nome do anúncio e ao nome do usuário responsável pelo anúncio. Referente ao nome do usuário, faremos o seguinte tratamento: reuniremos os *ids* deles e buscaremos no restante do DataFrame se há alguma linha em que se repita esse *id* e tenha o nome do usuário."
      ],
      "metadata": {
        "id": "hga03neUDSaJ"
      }
    },
    {
      "source": [
        "#  Criando DataFrame com os nomes nulos:\n",
        "null_host_names = df[df['host_name'].isnull()]['host_name']\n",
        "\n",
        "# Criando DataFrame com os ids dos usuário com nome nulo:\n",
        "host_ids = df[df['host_name'].isin(null_host_names)]['host_id']\n",
        "\n",
        "# Buscando no DataFrame pelos nomes referentes aos ids:\n",
        "df[df['host_id'].isin(host_ids)]"
      ],
      "cell_type": "code",
      "metadata": {
        "colab": {
          "base_uri": "https://localhost:8080/",
          "height": 73
        },
        "id": "svH1ZTJREKcF",
        "outputId": "1b3bb987-5021-437b-d1d9-cd5b1414ff23"
      },
      "execution_count": 17,
      "outputs": [
        {
          "output_type": "execute_result",
          "data": {
            "text/plain": [
              "Empty DataFrame\n",
              "Columns: [id, nome, host_id, host_name, bairro_group, bairro, latitude, longitude, room_type, price, minimo_noites, numero_de_reviews, ultima_review, reviews_por_mes, calculado_host_listings_count, disponibilidade_365]\n",
              "Index: []"
            ],
            "text/html": [
              "\n",
              "  <div id=\"df-8b08734c-9081-489f-9451-049c343dcd06\" class=\"colab-df-container\">\n",
              "    <div>\n",
              "<style scoped>\n",
              "    .dataframe tbody tr th:only-of-type {\n",
              "        vertical-align: middle;\n",
              "    }\n",
              "\n",
              "    .dataframe tbody tr th {\n",
              "        vertical-align: top;\n",
              "    }\n",
              "\n",
              "    .dataframe thead th {\n",
              "        text-align: right;\n",
              "    }\n",
              "</style>\n",
              "<table border=\"1\" class=\"dataframe\">\n",
              "  <thead>\n",
              "    <tr style=\"text-align: right;\">\n",
              "      <th></th>\n",
              "      <th>id</th>\n",
              "      <th>nome</th>\n",
              "      <th>host_id</th>\n",
              "      <th>host_name</th>\n",
              "      <th>bairro_group</th>\n",
              "      <th>bairro</th>\n",
              "      <th>latitude</th>\n",
              "      <th>longitude</th>\n",
              "      <th>room_type</th>\n",
              "      <th>price</th>\n",
              "      <th>minimo_noites</th>\n",
              "      <th>numero_de_reviews</th>\n",
              "      <th>ultima_review</th>\n",
              "      <th>reviews_por_mes</th>\n",
              "      <th>calculado_host_listings_count</th>\n",
              "      <th>disponibilidade_365</th>\n",
              "    </tr>\n",
              "  </thead>\n",
              "  <tbody>\n",
              "  </tbody>\n",
              "</table>\n",
              "</div>\n",
              "    <div class=\"colab-df-buttons\">\n",
              "\n",
              "  <div class=\"colab-df-container\">\n",
              "    <button class=\"colab-df-convert\" onclick=\"convertToInteractive('df-8b08734c-9081-489f-9451-049c343dcd06')\"\n",
              "            title=\"Convert this dataframe to an interactive table.\"\n",
              "            style=\"display:none;\">\n",
              "\n",
              "  <svg xmlns=\"http://www.w3.org/2000/svg\" height=\"24px\" viewBox=\"0 -960 960 960\">\n",
              "    <path d=\"M120-120v-720h720v720H120Zm60-500h600v-160H180v160Zm220 220h160v-160H400v160Zm0 220h160v-160H400v160ZM180-400h160v-160H180v160Zm440 0h160v-160H620v160ZM180-180h160v-160H180v160Zm440 0h160v-160H620v160Z\"/>\n",
              "  </svg>\n",
              "    </button>\n",
              "\n",
              "  <style>\n",
              "    .colab-df-container {\n",
              "      display:flex;\n",
              "      gap: 12px;\n",
              "    }\n",
              "\n",
              "    .colab-df-convert {\n",
              "      background-color: #E8F0FE;\n",
              "      border: none;\n",
              "      border-radius: 50%;\n",
              "      cursor: pointer;\n",
              "      display: none;\n",
              "      fill: #1967D2;\n",
              "      height: 32px;\n",
              "      padding: 0 0 0 0;\n",
              "      width: 32px;\n",
              "    }\n",
              "\n",
              "    .colab-df-convert:hover {\n",
              "      background-color: #E2EBFA;\n",
              "      box-shadow: 0px 1px 2px rgba(60, 64, 67, 0.3), 0px 1px 3px 1px rgba(60, 64, 67, 0.15);\n",
              "      fill: #174EA6;\n",
              "    }\n",
              "\n",
              "    .colab-df-buttons div {\n",
              "      margin-bottom: 4px;\n",
              "    }\n",
              "\n",
              "    [theme=dark] .colab-df-convert {\n",
              "      background-color: #3B4455;\n",
              "      fill: #D2E3FC;\n",
              "    }\n",
              "\n",
              "    [theme=dark] .colab-df-convert:hover {\n",
              "      background-color: #434B5C;\n",
              "      box-shadow: 0px 1px 3px 1px rgba(0, 0, 0, 0.15);\n",
              "      filter: drop-shadow(0px 1px 2px rgba(0, 0, 0, 0.3));\n",
              "      fill: #FFFFFF;\n",
              "    }\n",
              "  </style>\n",
              "\n",
              "    <script>\n",
              "      const buttonEl =\n",
              "        document.querySelector('#df-8b08734c-9081-489f-9451-049c343dcd06 button.colab-df-convert');\n",
              "      buttonEl.style.display =\n",
              "        google.colab.kernel.accessAllowed ? 'block' : 'none';\n",
              "\n",
              "      async function convertToInteractive(key) {\n",
              "        const element = document.querySelector('#df-8b08734c-9081-489f-9451-049c343dcd06');\n",
              "        const dataTable =\n",
              "          await google.colab.kernel.invokeFunction('convertToInteractive',\n",
              "                                                    [key], {});\n",
              "        if (!dataTable) return;\n",
              "\n",
              "        const docLinkHtml = 'Like what you see? Visit the ' +\n",
              "          '<a target=\"_blank\" href=https://colab.research.google.com/notebooks/data_table.ipynb>data table notebook</a>'\n",
              "          + ' to learn more about interactive tables.';\n",
              "        element.innerHTML = '';\n",
              "        dataTable['output_type'] = 'display_data';\n",
              "        await google.colab.output.renderOutput(dataTable, element);\n",
              "        const docLink = document.createElement('div');\n",
              "        docLink.innerHTML = docLinkHtml;\n",
              "        element.appendChild(docLink);\n",
              "      }\n",
              "    </script>\n",
              "  </div>\n",
              "\n",
              "\n",
              "    </div>\n",
              "  </div>\n"
            ]
          },
          "metadata": {},
          "execution_count": 17
        }
      ]
    },
    {
      "cell_type": "markdown",
      "source": [
        "Infelizmente, não há nenhuma outra menção dos *host_id* ligados aos *host_names* nulos. Sendo assim, por se tratar de uma quantidade pequena de dados, irei apenas remover as linhas com esses valores nulos, juntamente com as linhas em que o título do anúncio é nulo."
      ],
      "metadata": {
        "id": "1miXQG5vK3kh"
      }
    },
    {
      "source": [
        "# Removendo todos os valores nulos\n",
        "df = df.dropna()\n",
        "\n",
        "# Checando se todos os valores foram removidos\n",
        "df.isnull().sum()"
      ],
      "cell_type": "code",
      "metadata": {
        "colab": {
          "base_uri": "https://localhost:8080/"
        },
        "id": "ydFwz3J5EjV-",
        "outputId": "46857fde-90e1-46bd-f0af-0590444d80b6"
      },
      "execution_count": 11,
      "outputs": [
        {
          "output_type": "execute_result",
          "data": {
            "text/plain": [
              "id                               0\n",
              "nome                             0\n",
              "host_id                          0\n",
              "host_name                        0\n",
              "bairro_group                     0\n",
              "bairro                           0\n",
              "latitude                         0\n",
              "longitude                        0\n",
              "room_type                        0\n",
              "price                            0\n",
              "minimo_noites                    0\n",
              "numero_de_reviews                0\n",
              "ultima_review                    0\n",
              "reviews_por_mes                  0\n",
              "calculado_host_listings_count    0\n",
              "disponibilidade_365              0\n",
              "dtype: int64"
            ]
          },
          "metadata": {},
          "execution_count": 11
        }
      ]
    },
    {
      "cell_type": "markdown",
      "source": [
        "###**2.2 Análise dos dados**"
      ],
      "metadata": {
        "id": "a96vQIPbYzQ8"
      }
    },
    {
      "cell_type": "markdown",
      "source": [
        "####2.2.1 Dados categóricos\n",
        "\n",
        "Vamos ter uma visão geral dos nossos dados, começando pelos dados categóricos."
      ],
      "metadata": {
        "id": "_Lh8BQk9Z50w"
      }
    },
    {
      "cell_type": "code",
      "source": [
        "df.select_dtypes(\"object\").describe().transpose()"
      ],
      "metadata": {
        "colab": {
          "base_uri": "https://localhost:8080/",
          "height": 238
        },
        "id": "SbHl0YCzZr3S",
        "outputId": "11cdfb10-b538-4e5d-c5b5-845c6e8b5a06"
      },
      "execution_count": 12,
      "outputs": [
        {
          "output_type": "execute_result",
          "data": {
            "text/plain": [
              "               count unique              top   freq\n",
              "nome           48857  47883   Hillside Hotel     18\n",
              "host_name      48857  11450          Michael    417\n",
              "bairro_group   48857      5        Manhattan  21643\n",
              "bairro         48857    221     Williamsburg   3917\n",
              "room_type      48857      3  Entire home/apt  25393\n",
              "ultima_review  48857   1765                0  10037"
            ],
            "text/html": [
              "\n",
              "  <div id=\"df-182e18e0-ac60-4a4a-98c4-5d68616b5ef5\" class=\"colab-df-container\">\n",
              "    <div>\n",
              "<style scoped>\n",
              "    .dataframe tbody tr th:only-of-type {\n",
              "        vertical-align: middle;\n",
              "    }\n",
              "\n",
              "    .dataframe tbody tr th {\n",
              "        vertical-align: top;\n",
              "    }\n",
              "\n",
              "    .dataframe thead th {\n",
              "        text-align: right;\n",
              "    }\n",
              "</style>\n",
              "<table border=\"1\" class=\"dataframe\">\n",
              "  <thead>\n",
              "    <tr style=\"text-align: right;\">\n",
              "      <th></th>\n",
              "      <th>count</th>\n",
              "      <th>unique</th>\n",
              "      <th>top</th>\n",
              "      <th>freq</th>\n",
              "    </tr>\n",
              "  </thead>\n",
              "  <tbody>\n",
              "    <tr>\n",
              "      <th>nome</th>\n",
              "      <td>48857</td>\n",
              "      <td>47883</td>\n",
              "      <td>Hillside Hotel</td>\n",
              "      <td>18</td>\n",
              "    </tr>\n",
              "    <tr>\n",
              "      <th>host_name</th>\n",
              "      <td>48857</td>\n",
              "      <td>11450</td>\n",
              "      <td>Michael</td>\n",
              "      <td>417</td>\n",
              "    </tr>\n",
              "    <tr>\n",
              "      <th>bairro_group</th>\n",
              "      <td>48857</td>\n",
              "      <td>5</td>\n",
              "      <td>Manhattan</td>\n",
              "      <td>21643</td>\n",
              "    </tr>\n",
              "    <tr>\n",
              "      <th>bairro</th>\n",
              "      <td>48857</td>\n",
              "      <td>221</td>\n",
              "      <td>Williamsburg</td>\n",
              "      <td>3917</td>\n",
              "    </tr>\n",
              "    <tr>\n",
              "      <th>room_type</th>\n",
              "      <td>48857</td>\n",
              "      <td>3</td>\n",
              "      <td>Entire home/apt</td>\n",
              "      <td>25393</td>\n",
              "    </tr>\n",
              "    <tr>\n",
              "      <th>ultima_review</th>\n",
              "      <td>48857</td>\n",
              "      <td>1765</td>\n",
              "      <td>0</td>\n",
              "      <td>10037</td>\n",
              "    </tr>\n",
              "  </tbody>\n",
              "</table>\n",
              "</div>\n",
              "    <div class=\"colab-df-buttons\">\n",
              "\n",
              "  <div class=\"colab-df-container\">\n",
              "    <button class=\"colab-df-convert\" onclick=\"convertToInteractive('df-182e18e0-ac60-4a4a-98c4-5d68616b5ef5')\"\n",
              "            title=\"Convert this dataframe to an interactive table.\"\n",
              "            style=\"display:none;\">\n",
              "\n",
              "  <svg xmlns=\"http://www.w3.org/2000/svg\" height=\"24px\" viewBox=\"0 -960 960 960\">\n",
              "    <path d=\"M120-120v-720h720v720H120Zm60-500h600v-160H180v160Zm220 220h160v-160H400v160Zm0 220h160v-160H400v160ZM180-400h160v-160H180v160Zm440 0h160v-160H620v160ZM180-180h160v-160H180v160Zm440 0h160v-160H620v160Z\"/>\n",
              "  </svg>\n",
              "    </button>\n",
              "\n",
              "  <style>\n",
              "    .colab-df-container {\n",
              "      display:flex;\n",
              "      gap: 12px;\n",
              "    }\n",
              "\n",
              "    .colab-df-convert {\n",
              "      background-color: #E8F0FE;\n",
              "      border: none;\n",
              "      border-radius: 50%;\n",
              "      cursor: pointer;\n",
              "      display: none;\n",
              "      fill: #1967D2;\n",
              "      height: 32px;\n",
              "      padding: 0 0 0 0;\n",
              "      width: 32px;\n",
              "    }\n",
              "\n",
              "    .colab-df-convert:hover {\n",
              "      background-color: #E2EBFA;\n",
              "      box-shadow: 0px 1px 2px rgba(60, 64, 67, 0.3), 0px 1px 3px 1px rgba(60, 64, 67, 0.15);\n",
              "      fill: #174EA6;\n",
              "    }\n",
              "\n",
              "    .colab-df-buttons div {\n",
              "      margin-bottom: 4px;\n",
              "    }\n",
              "\n",
              "    [theme=dark] .colab-df-convert {\n",
              "      background-color: #3B4455;\n",
              "      fill: #D2E3FC;\n",
              "    }\n",
              "\n",
              "    [theme=dark] .colab-df-convert:hover {\n",
              "      background-color: #434B5C;\n",
              "      box-shadow: 0px 1px 3px 1px rgba(0, 0, 0, 0.15);\n",
              "      filter: drop-shadow(0px 1px 2px rgba(0, 0, 0, 0.3));\n",
              "      fill: #FFFFFF;\n",
              "    }\n",
              "  </style>\n",
              "\n",
              "    <script>\n",
              "      const buttonEl =\n",
              "        document.querySelector('#df-182e18e0-ac60-4a4a-98c4-5d68616b5ef5 button.colab-df-convert');\n",
              "      buttonEl.style.display =\n",
              "        google.colab.kernel.accessAllowed ? 'block' : 'none';\n",
              "\n",
              "      async function convertToInteractive(key) {\n",
              "        const element = document.querySelector('#df-182e18e0-ac60-4a4a-98c4-5d68616b5ef5');\n",
              "        const dataTable =\n",
              "          await google.colab.kernel.invokeFunction('convertToInteractive',\n",
              "                                                    [key], {});\n",
              "        if (!dataTable) return;\n",
              "\n",
              "        const docLinkHtml = 'Like what you see? Visit the ' +\n",
              "          '<a target=\"_blank\" href=https://colab.research.google.com/notebooks/data_table.ipynb>data table notebook</a>'\n",
              "          + ' to learn more about interactive tables.';\n",
              "        element.innerHTML = '';\n",
              "        dataTable['output_type'] = 'display_data';\n",
              "        await google.colab.output.renderOutput(dataTable, element);\n",
              "        const docLink = document.createElement('div');\n",
              "        docLink.innerHTML = docLinkHtml;\n",
              "        element.appendChild(docLink);\n",
              "      }\n",
              "    </script>\n",
              "  </div>\n",
              "\n",
              "\n",
              "<div id=\"df-4d7d8ec6-ab12-4103-9d1d-72aed516284a\">\n",
              "  <button class=\"colab-df-quickchart\" onclick=\"quickchart('df-4d7d8ec6-ab12-4103-9d1d-72aed516284a')\"\n",
              "            title=\"Suggest charts\"\n",
              "            style=\"display:none;\">\n",
              "\n",
              "<svg xmlns=\"http://www.w3.org/2000/svg\" height=\"24px\"viewBox=\"0 0 24 24\"\n",
              "     width=\"24px\">\n",
              "    <g>\n",
              "        <path d=\"M19 3H5c-1.1 0-2 .9-2 2v14c0 1.1.9 2 2 2h14c1.1 0 2-.9 2-2V5c0-1.1-.9-2-2-2zM9 17H7v-7h2v7zm4 0h-2V7h2v10zm4 0h-2v-4h2v4z\"/>\n",
              "    </g>\n",
              "</svg>\n",
              "  </button>\n",
              "\n",
              "<style>\n",
              "  .colab-df-quickchart {\n",
              "      --bg-color: #E8F0FE;\n",
              "      --fill-color: #1967D2;\n",
              "      --hover-bg-color: #E2EBFA;\n",
              "      --hover-fill-color: #174EA6;\n",
              "      --disabled-fill-color: #AAA;\n",
              "      --disabled-bg-color: #DDD;\n",
              "  }\n",
              "\n",
              "  [theme=dark] .colab-df-quickchart {\n",
              "      --bg-color: #3B4455;\n",
              "      --fill-color: #D2E3FC;\n",
              "      --hover-bg-color: #434B5C;\n",
              "      --hover-fill-color: #FFFFFF;\n",
              "      --disabled-bg-color: #3B4455;\n",
              "      --disabled-fill-color: #666;\n",
              "  }\n",
              "\n",
              "  .colab-df-quickchart {\n",
              "    background-color: var(--bg-color);\n",
              "    border: none;\n",
              "    border-radius: 50%;\n",
              "    cursor: pointer;\n",
              "    display: none;\n",
              "    fill: var(--fill-color);\n",
              "    height: 32px;\n",
              "    padding: 0;\n",
              "    width: 32px;\n",
              "  }\n",
              "\n",
              "  .colab-df-quickchart:hover {\n",
              "    background-color: var(--hover-bg-color);\n",
              "    box-shadow: 0 1px 2px rgba(60, 64, 67, 0.3), 0 1px 3px 1px rgba(60, 64, 67, 0.15);\n",
              "    fill: var(--button-hover-fill-color);\n",
              "  }\n",
              "\n",
              "  .colab-df-quickchart-complete:disabled,\n",
              "  .colab-df-quickchart-complete:disabled:hover {\n",
              "    background-color: var(--disabled-bg-color);\n",
              "    fill: var(--disabled-fill-color);\n",
              "    box-shadow: none;\n",
              "  }\n",
              "\n",
              "  .colab-df-spinner {\n",
              "    border: 2px solid var(--fill-color);\n",
              "    border-color: transparent;\n",
              "    border-bottom-color: var(--fill-color);\n",
              "    animation:\n",
              "      spin 1s steps(1) infinite;\n",
              "  }\n",
              "\n",
              "  @keyframes spin {\n",
              "    0% {\n",
              "      border-color: transparent;\n",
              "      border-bottom-color: var(--fill-color);\n",
              "      border-left-color: var(--fill-color);\n",
              "    }\n",
              "    20% {\n",
              "      border-color: transparent;\n",
              "      border-left-color: var(--fill-color);\n",
              "      border-top-color: var(--fill-color);\n",
              "    }\n",
              "    30% {\n",
              "      border-color: transparent;\n",
              "      border-left-color: var(--fill-color);\n",
              "      border-top-color: var(--fill-color);\n",
              "      border-right-color: var(--fill-color);\n",
              "    }\n",
              "    40% {\n",
              "      border-color: transparent;\n",
              "      border-right-color: var(--fill-color);\n",
              "      border-top-color: var(--fill-color);\n",
              "    }\n",
              "    60% {\n",
              "      border-color: transparent;\n",
              "      border-right-color: var(--fill-color);\n",
              "    }\n",
              "    80% {\n",
              "      border-color: transparent;\n",
              "      border-right-color: var(--fill-color);\n",
              "      border-bottom-color: var(--fill-color);\n",
              "    }\n",
              "    90% {\n",
              "      border-color: transparent;\n",
              "      border-bottom-color: var(--fill-color);\n",
              "    }\n",
              "  }\n",
              "</style>\n",
              "\n",
              "  <script>\n",
              "    async function quickchart(key) {\n",
              "      const quickchartButtonEl =\n",
              "        document.querySelector('#' + key + ' button');\n",
              "      quickchartButtonEl.disabled = true;  // To prevent multiple clicks.\n",
              "      quickchartButtonEl.classList.add('colab-df-spinner');\n",
              "      try {\n",
              "        const charts = await google.colab.kernel.invokeFunction(\n",
              "            'suggestCharts', [key], {});\n",
              "      } catch (error) {\n",
              "        console.error('Error during call to suggestCharts:', error);\n",
              "      }\n",
              "      quickchartButtonEl.classList.remove('colab-df-spinner');\n",
              "      quickchartButtonEl.classList.add('colab-df-quickchart-complete');\n",
              "    }\n",
              "    (() => {\n",
              "      let quickchartButtonEl =\n",
              "        document.querySelector('#df-4d7d8ec6-ab12-4103-9d1d-72aed516284a button');\n",
              "      quickchartButtonEl.style.display =\n",
              "        google.colab.kernel.accessAllowed ? 'block' : 'none';\n",
              "    })();\n",
              "  </script>\n",
              "</div>\n",
              "\n",
              "    </div>\n",
              "  </div>\n"
            ]
          },
          "metadata": {},
          "execution_count": 12
        }
      ]
    },
    {
      "cell_type": "markdown",
      "source": [
        "Vamos analisar brevemente os dados únicos com menor ocorrência:\n"
      ],
      "metadata": {
        "id": "ePMAchxfi8J_"
      }
    },
    {
      "cell_type": "code",
      "source": [
        "print(f\"Tipos de quarto: {df['room_type'].unique()} \\n\\\n",
        "        Bairros: {df['bairro_group'].unique()}\")"
      ],
      "metadata": {
        "colab": {
          "base_uri": "https://localhost:8080/"
        },
        "id": "p8OHH7lmjmWp",
        "outputId": "d9400b35-ae7d-4726-a13f-7bf693982a63"
      },
      "execution_count": 13,
      "outputs": [
        {
          "output_type": "stream",
          "name": "stdout",
          "text": [
            "Tipos de quarto: ['Entire home/apt' 'Private room' 'Shared room'] \n",
            "        Bairros: ['Manhattan' 'Brooklyn' 'Queens' 'Staten Island' 'Bronx']\n"
          ]
        }
      ]
    },
    {
      "cell_type": "markdown",
      "source": [
        "**Insights:**\n",
        "\n",
        "* É possível observar nos dados referentes aos bairros que os dados do concorrente estão corretamente direcionados somente à cidade de Nova York, que é o maior interesse de nosso cliente.\n",
        "\n",
        "* A quantidade de valores únicos na coluna é alta, cerca de 1000 resultados são repetidos, como por exemplo a rede (*chain*) de hotéis *Hillside Hotel* que se repete 18 vezes. Isso indica que nossos dados se tratam majoritariamente de aluguéis por aplicativo (ex: Airbnb, Vrbo, Wimdu), outra evidência são os tipos de quartos que não são opções comuns em redes de hotéis.\n",
        "\n",
        "* Segue uma tabela para facilitar a visualização dos valores mais populares:\n",
        "\n",
        ">| Mais popular | Valor |\n",
        "|---|---|\n",
        "| Anúncio | Hillside Hotel |\n",
        "| Anfitrião | Michael |\n",
        "| Bairro | Manhattan |\n",
        "| Área | Williamsburg |\n",
        "| Tipo de quarto | Casa/apartamento inteiro |\n",
        "| Comodidadeses | Wifi, cozinha, itens essenciais, aquecimento, ar condicionado |\n"
      ],
      "metadata": {
        "id": "CtMHX-cDa1TB"
      }
    },
    {
      "cell_type": "markdown",
      "source": [
        "####**2.2.2 Dados numéricos**"
      ],
      "metadata": {
        "id": "1JxqastqogEN"
      }
    },
    {
      "cell_type": "code",
      "source": [
        "num_data_df = df.select_dtypes([\"int64\",\"float64\"]).drop(['id', 'host_id', 'latitude', 'longitude'], axis=1)\n",
        "num_data_df.describe().T # T e transpose() são métodos idênticos"
      ],
      "metadata": {
        "colab": {
          "base_uri": "https://localhost:8080/",
          "height": 238
        },
        "id": "V0bQYZBhosvQ",
        "outputId": "7224b5ea-1f67-46e1-c53a-3da5163274f0"
      },
      "execution_count": 111,
      "outputs": [
        {
          "output_type": "execute_result",
          "data": {
            "text/plain": [
              "                                 count        mean         std  min    25%  \\\n",
              "price                          48857.0  152.740385  240.234843  0.0  69.00   \n",
              "minimo_noites                  48857.0    7.012567   20.019944  1.0   1.00   \n",
              "numero_de_reviews              48857.0   23.273390   44.550307  0.0   1.00   \n",
              "reviews_por_mes                48857.0    1.091142    1.597281  0.0   0.04   \n",
              "calculado_host_listings_count  48857.0    7.148392   32.964937  1.0   1.00   \n",
              "disponibilidade_365            48857.0  112.796263  131.607363  0.0   0.00   \n",
              "\n",
              "                                  50%     75%      max  \n",
              "price                          106.00  175.00  10000.0  \n",
              "minimo_noites                    3.00    5.00   1250.0  \n",
              "numero_de_reviews                5.00   24.00    629.0  \n",
              "reviews_por_mes                  0.37    1.58     58.5  \n",
              "calculado_host_listings_count    1.00    2.00    327.0  \n",
              "disponibilidade_365             45.00  227.00    365.0  "
            ],
            "text/html": [
              "\n",
              "  <div id=\"df-6e52a8ee-8ff0-4413-a0ef-e09f396b6534\" class=\"colab-df-container\">\n",
              "    <div>\n",
              "<style scoped>\n",
              "    .dataframe tbody tr th:only-of-type {\n",
              "        vertical-align: middle;\n",
              "    }\n",
              "\n",
              "    .dataframe tbody tr th {\n",
              "        vertical-align: top;\n",
              "    }\n",
              "\n",
              "    .dataframe thead th {\n",
              "        text-align: right;\n",
              "    }\n",
              "</style>\n",
              "<table border=\"1\" class=\"dataframe\">\n",
              "  <thead>\n",
              "    <tr style=\"text-align: right;\">\n",
              "      <th></th>\n",
              "      <th>count</th>\n",
              "      <th>mean</th>\n",
              "      <th>std</th>\n",
              "      <th>min</th>\n",
              "      <th>25%</th>\n",
              "      <th>50%</th>\n",
              "      <th>75%</th>\n",
              "      <th>max</th>\n",
              "    </tr>\n",
              "  </thead>\n",
              "  <tbody>\n",
              "    <tr>\n",
              "      <th>price</th>\n",
              "      <td>48857.0</td>\n",
              "      <td>152.740385</td>\n",
              "      <td>240.234843</td>\n",
              "      <td>0.0</td>\n",
              "      <td>69.00</td>\n",
              "      <td>106.00</td>\n",
              "      <td>175.00</td>\n",
              "      <td>10000.0</td>\n",
              "    </tr>\n",
              "    <tr>\n",
              "      <th>minimo_noites</th>\n",
              "      <td>48857.0</td>\n",
              "      <td>7.012567</td>\n",
              "      <td>20.019944</td>\n",
              "      <td>1.0</td>\n",
              "      <td>1.00</td>\n",
              "      <td>3.00</td>\n",
              "      <td>5.00</td>\n",
              "      <td>1250.0</td>\n",
              "    </tr>\n",
              "    <tr>\n",
              "      <th>numero_de_reviews</th>\n",
              "      <td>48857.0</td>\n",
              "      <td>23.273390</td>\n",
              "      <td>44.550307</td>\n",
              "      <td>0.0</td>\n",
              "      <td>1.00</td>\n",
              "      <td>5.00</td>\n",
              "      <td>24.00</td>\n",
              "      <td>629.0</td>\n",
              "    </tr>\n",
              "    <tr>\n",
              "      <th>reviews_por_mes</th>\n",
              "      <td>48857.0</td>\n",
              "      <td>1.091142</td>\n",
              "      <td>1.597281</td>\n",
              "      <td>0.0</td>\n",
              "      <td>0.04</td>\n",
              "      <td>0.37</td>\n",
              "      <td>1.58</td>\n",
              "      <td>58.5</td>\n",
              "    </tr>\n",
              "    <tr>\n",
              "      <th>calculado_host_listings_count</th>\n",
              "      <td>48857.0</td>\n",
              "      <td>7.148392</td>\n",
              "      <td>32.964937</td>\n",
              "      <td>1.0</td>\n",
              "      <td>1.00</td>\n",
              "      <td>1.00</td>\n",
              "      <td>2.00</td>\n",
              "      <td>327.0</td>\n",
              "    </tr>\n",
              "    <tr>\n",
              "      <th>disponibilidade_365</th>\n",
              "      <td>48857.0</td>\n",
              "      <td>112.796263</td>\n",
              "      <td>131.607363</td>\n",
              "      <td>0.0</td>\n",
              "      <td>0.00</td>\n",
              "      <td>45.00</td>\n",
              "      <td>227.00</td>\n",
              "      <td>365.0</td>\n",
              "    </tr>\n",
              "  </tbody>\n",
              "</table>\n",
              "</div>\n",
              "    <div class=\"colab-df-buttons\">\n",
              "\n",
              "  <div class=\"colab-df-container\">\n",
              "    <button class=\"colab-df-convert\" onclick=\"convertToInteractive('df-6e52a8ee-8ff0-4413-a0ef-e09f396b6534')\"\n",
              "            title=\"Convert this dataframe to an interactive table.\"\n",
              "            style=\"display:none;\">\n",
              "\n",
              "  <svg xmlns=\"http://www.w3.org/2000/svg\" height=\"24px\" viewBox=\"0 -960 960 960\">\n",
              "    <path d=\"M120-120v-720h720v720H120Zm60-500h600v-160H180v160Zm220 220h160v-160H400v160Zm0 220h160v-160H400v160ZM180-400h160v-160H180v160Zm440 0h160v-160H620v160ZM180-180h160v-160H180v160Zm440 0h160v-160H620v160Z\"/>\n",
              "  </svg>\n",
              "    </button>\n",
              "\n",
              "  <style>\n",
              "    .colab-df-container {\n",
              "      display:flex;\n",
              "      gap: 12px;\n",
              "    }\n",
              "\n",
              "    .colab-df-convert {\n",
              "      background-color: #E8F0FE;\n",
              "      border: none;\n",
              "      border-radius: 50%;\n",
              "      cursor: pointer;\n",
              "      display: none;\n",
              "      fill: #1967D2;\n",
              "      height: 32px;\n",
              "      padding: 0 0 0 0;\n",
              "      width: 32px;\n",
              "    }\n",
              "\n",
              "    .colab-df-convert:hover {\n",
              "      background-color: #E2EBFA;\n",
              "      box-shadow: 0px 1px 2px rgba(60, 64, 67, 0.3), 0px 1px 3px 1px rgba(60, 64, 67, 0.15);\n",
              "      fill: #174EA6;\n",
              "    }\n",
              "\n",
              "    .colab-df-buttons div {\n",
              "      margin-bottom: 4px;\n",
              "    }\n",
              "\n",
              "    [theme=dark] .colab-df-convert {\n",
              "      background-color: #3B4455;\n",
              "      fill: #D2E3FC;\n",
              "    }\n",
              "\n",
              "    [theme=dark] .colab-df-convert:hover {\n",
              "      background-color: #434B5C;\n",
              "      box-shadow: 0px 1px 3px 1px rgba(0, 0, 0, 0.15);\n",
              "      filter: drop-shadow(0px 1px 2px rgba(0, 0, 0, 0.3));\n",
              "      fill: #FFFFFF;\n",
              "    }\n",
              "  </style>\n",
              "\n",
              "    <script>\n",
              "      const buttonEl =\n",
              "        document.querySelector('#df-6e52a8ee-8ff0-4413-a0ef-e09f396b6534 button.colab-df-convert');\n",
              "      buttonEl.style.display =\n",
              "        google.colab.kernel.accessAllowed ? 'block' : 'none';\n",
              "\n",
              "      async function convertToInteractive(key) {\n",
              "        const element = document.querySelector('#df-6e52a8ee-8ff0-4413-a0ef-e09f396b6534');\n",
              "        const dataTable =\n",
              "          await google.colab.kernel.invokeFunction('convertToInteractive',\n",
              "                                                    [key], {});\n",
              "        if (!dataTable) return;\n",
              "\n",
              "        const docLinkHtml = 'Like what you see? Visit the ' +\n",
              "          '<a target=\"_blank\" href=https://colab.research.google.com/notebooks/data_table.ipynb>data table notebook</a>'\n",
              "          + ' to learn more about interactive tables.';\n",
              "        element.innerHTML = '';\n",
              "        dataTable['output_type'] = 'display_data';\n",
              "        await google.colab.output.renderOutput(dataTable, element);\n",
              "        const docLink = document.createElement('div');\n",
              "        docLink.innerHTML = docLinkHtml;\n",
              "        element.appendChild(docLink);\n",
              "      }\n",
              "    </script>\n",
              "  </div>\n",
              "\n",
              "\n",
              "<div id=\"df-6c94feba-ee62-4d30-b48f-a3798b0d685a\">\n",
              "  <button class=\"colab-df-quickchart\" onclick=\"quickchart('df-6c94feba-ee62-4d30-b48f-a3798b0d685a')\"\n",
              "            title=\"Suggest charts\"\n",
              "            style=\"display:none;\">\n",
              "\n",
              "<svg xmlns=\"http://www.w3.org/2000/svg\" height=\"24px\"viewBox=\"0 0 24 24\"\n",
              "     width=\"24px\">\n",
              "    <g>\n",
              "        <path d=\"M19 3H5c-1.1 0-2 .9-2 2v14c0 1.1.9 2 2 2h14c1.1 0 2-.9 2-2V5c0-1.1-.9-2-2-2zM9 17H7v-7h2v7zm4 0h-2V7h2v10zm4 0h-2v-4h2v4z\"/>\n",
              "    </g>\n",
              "</svg>\n",
              "  </button>\n",
              "\n",
              "<style>\n",
              "  .colab-df-quickchart {\n",
              "      --bg-color: #E8F0FE;\n",
              "      --fill-color: #1967D2;\n",
              "      --hover-bg-color: #E2EBFA;\n",
              "      --hover-fill-color: #174EA6;\n",
              "      --disabled-fill-color: #AAA;\n",
              "      --disabled-bg-color: #DDD;\n",
              "  }\n",
              "\n",
              "  [theme=dark] .colab-df-quickchart {\n",
              "      --bg-color: #3B4455;\n",
              "      --fill-color: #D2E3FC;\n",
              "      --hover-bg-color: #434B5C;\n",
              "      --hover-fill-color: #FFFFFF;\n",
              "      --disabled-bg-color: #3B4455;\n",
              "      --disabled-fill-color: #666;\n",
              "  }\n",
              "\n",
              "  .colab-df-quickchart {\n",
              "    background-color: var(--bg-color);\n",
              "    border: none;\n",
              "    border-radius: 50%;\n",
              "    cursor: pointer;\n",
              "    display: none;\n",
              "    fill: var(--fill-color);\n",
              "    height: 32px;\n",
              "    padding: 0;\n",
              "    width: 32px;\n",
              "  }\n",
              "\n",
              "  .colab-df-quickchart:hover {\n",
              "    background-color: var(--hover-bg-color);\n",
              "    box-shadow: 0 1px 2px rgba(60, 64, 67, 0.3), 0 1px 3px 1px rgba(60, 64, 67, 0.15);\n",
              "    fill: var(--button-hover-fill-color);\n",
              "  }\n",
              "\n",
              "  .colab-df-quickchart-complete:disabled,\n",
              "  .colab-df-quickchart-complete:disabled:hover {\n",
              "    background-color: var(--disabled-bg-color);\n",
              "    fill: var(--disabled-fill-color);\n",
              "    box-shadow: none;\n",
              "  }\n",
              "\n",
              "  .colab-df-spinner {\n",
              "    border: 2px solid var(--fill-color);\n",
              "    border-color: transparent;\n",
              "    border-bottom-color: var(--fill-color);\n",
              "    animation:\n",
              "      spin 1s steps(1) infinite;\n",
              "  }\n",
              "\n",
              "  @keyframes spin {\n",
              "    0% {\n",
              "      border-color: transparent;\n",
              "      border-bottom-color: var(--fill-color);\n",
              "      border-left-color: var(--fill-color);\n",
              "    }\n",
              "    20% {\n",
              "      border-color: transparent;\n",
              "      border-left-color: var(--fill-color);\n",
              "      border-top-color: var(--fill-color);\n",
              "    }\n",
              "    30% {\n",
              "      border-color: transparent;\n",
              "      border-left-color: var(--fill-color);\n",
              "      border-top-color: var(--fill-color);\n",
              "      border-right-color: var(--fill-color);\n",
              "    }\n",
              "    40% {\n",
              "      border-color: transparent;\n",
              "      border-right-color: var(--fill-color);\n",
              "      border-top-color: var(--fill-color);\n",
              "    }\n",
              "    60% {\n",
              "      border-color: transparent;\n",
              "      border-right-color: var(--fill-color);\n",
              "    }\n",
              "    80% {\n",
              "      border-color: transparent;\n",
              "      border-right-color: var(--fill-color);\n",
              "      border-bottom-color: var(--fill-color);\n",
              "    }\n",
              "    90% {\n",
              "      border-color: transparent;\n",
              "      border-bottom-color: var(--fill-color);\n",
              "    }\n",
              "  }\n",
              "</style>\n",
              "\n",
              "  <script>\n",
              "    async function quickchart(key) {\n",
              "      const quickchartButtonEl =\n",
              "        document.querySelector('#' + key + ' button');\n",
              "      quickchartButtonEl.disabled = true;  // To prevent multiple clicks.\n",
              "      quickchartButtonEl.classList.add('colab-df-spinner');\n",
              "      try {\n",
              "        const charts = await google.colab.kernel.invokeFunction(\n",
              "            'suggestCharts', [key], {});\n",
              "      } catch (error) {\n",
              "        console.error('Error during call to suggestCharts:', error);\n",
              "      }\n",
              "      quickchartButtonEl.classList.remove('colab-df-spinner');\n",
              "      quickchartButtonEl.classList.add('colab-df-quickchart-complete');\n",
              "    }\n",
              "    (() => {\n",
              "      let quickchartButtonEl =\n",
              "        document.querySelector('#df-6c94feba-ee62-4d30-b48f-a3798b0d685a button');\n",
              "      quickchartButtonEl.style.display =\n",
              "        google.colab.kernel.accessAllowed ? 'block' : 'none';\n",
              "    })();\n",
              "  </script>\n",
              "</div>\n",
              "\n",
              "    </div>\n",
              "  </div>\n"
            ]
          },
          "metadata": {},
          "execution_count": 111
        }
      ]
    },
    {
      "cell_type": "markdown",
      "source": [
        "**Insights:**\n",
        "\n",
        "* Enquanto o desvio padrão é de $240,23, o preço médio é de apenas \\$152,74, sugerindo assim, que há uma ampla gama de preços, com alguns anúncios sendo muito mais caros do que outros.\n",
        "\n",
        "* O preço mediano é de $106, menor que a média aritmética, sugerindo que os preços tendem a ser em sua maioria numa faixa de preço mais baixa.\n",
        "\n",
        "* Na coluna *calculado_host_listings_count* existe pelo menos um *outlier*, visto que o terceiro quartil tem como valor 2 mas o número máximo é 327, indicando que um dos anfitriões tem essa quantidade de propriedades.\n",
        "\n",
        "* Há algumas discrepâncias nos dados como o número mínimo de noites ser de 1250 noites (3 anos e meio) e o preço mínimo ser de $0,00. Elas podem ser alvo de uma análise posterior."
      ],
      "metadata": {
        "id": "y4RbSmYWs3JU"
      }
    },
    {
      "cell_type": "markdown",
      "source": [
        "###**2.3 Visualização dos dados**"
      ],
      "metadata": {
        "id": "gI80tncI0It1"
      }
    },
    {
      "cell_type": "markdown",
      "source": [
        "#### 2.3.1 Localizações"
      ],
      "metadata": {
        "id": "_XZUgv-P0dY-"
      }
    },
    {
      "cell_type": "code",
      "source": [
        "map_df = df[['bairro', 'longitude', 'latitude']]\n",
        "sns.set(context=\"notebook\")"
      ],
      "metadata": {
        "id": "eJupJxx-0uag"
      },
      "execution_count": 71,
      "outputs": []
    },
    {
      "cell_type": "markdown",
      "source": [
        "Vamos ver a porcentagem de propriedades que cada bairro:"
      ],
      "metadata": {
        "id": "aMzEwgqi7C6O"
      }
    },
    {
      "cell_type": "code",
      "source": [
        "sns.set(context=\"notebook\")\n",
        "with sns.axes_style('whitegrid'):\n",
        "  grafico = sns.barplot(\n",
        "      x=df['bairro_group'].value_counts().index,\n",
        "      y=df['bairro_group'].value_counts().values,\n",
        "      palette='rainbow')\n",
        "  grafico.set(title='Gráfico 1 - Proporção de propriedades por região',\n",
        "                xlabel='Região',\n",
        "                ylabel='Proporção')\n"
      ],
      "metadata": {
        "colab": {
          "base_uri": "https://localhost:8080/",
          "height": 481
        },
        "id": "bK4jj8wm7Ckp",
        "outputId": "017189e0-3bea-4066-c27b-100969c7111c"
      },
      "execution_count": 79,
      "outputs": [
        {
          "output_type": "display_data",
          "data": {
            "text/plain": [
              "<Figure size 640x480 with 1 Axes>"
            ],
            "image/png": "[encoded data removed]"
          },
          "metadata": {}
        }
      ]
    },
    {
      "cell_type": "markdown",
      "source": [
        "*Manhattan* e *Brooklyn* são as regiões com mais propriedades disponíveis pelo concorrente, cerca de 400% em relação à região *Queens* em terceiro lugar."
      ],
      "metadata": {
        "id": "fuhGYkCmHLxU"
      }
    },
    {
      "cell_type": "markdown",
      "source": [
        "####2.3.2 Preços"
      ],
      "metadata": {
        "id": "Q4MC84dcIbXM"
      }
    },
    {
      "cell_type": "code",
      "source": [
        "with sns.axes_style('whitegrid'):\n",
        "  grafico = sns.barplot(\n",
        "      x=df.groupby('bairro_group')['price'].mean().index,\n",
        "      y=df.groupby('bairro_group')['price'].mean().values,\n",
        "      palette='rainbow')\n",
        "  grafico.set(title='Gráfico 2 - Preço médio por região',\n",
        "                xlabel='Região',\n",
        "                ylabel='Preço médio')"
      ],
      "metadata": {
        "colab": {
          "base_uri": "https://localhost:8080/",
          "height": 481
        },
        "id": "EuuC-CD1IsTG",
        "outputId": "942e4c2e-5566-4d81-b207-0d775e380eae"
      },
      "execution_count": 82,
      "outputs": [
        {
          "output_type": "display_data",
          "data": {
            "text/plain": [
              "<Figure size 640x480 with 1 Axes>"
            ],
            "image/png": "[encoded data removed]"
          },
          "metadata": {}
        }
      ]
    },
    {
      "cell_type": "markdown",
      "source": [
        "*Manhattan* é disparado a região com o maior preço médio, seguido por *Brooklyn* e *Staten Island*."
      ],
      "metadata": {
        "id": "So6-XxIkJCIM"
      }
    },
    {
      "cell_type": "markdown",
      "source": [
        "####2.3.3 Tipos de espaço"
      ],
      "metadata": {
        "id": "kEbr9Vj_K1N_"
      }
    },
    {
      "cell_type": "code",
      "source": [
        "with sns.axes_style('whitegrid'):\n",
        "  grafico = sns.barplot(\n",
        "      x=df['room_type'].value_counts().index,\n",
        "      y=df['room_type'].value_counts().values,\n",
        "      palette='rainbow')\n",
        "  grafico.set(title='Gráfico 3 - Tipos de espaço disponíveis',\n",
        "                xlabel='Tipo de espaço',\n",
        "                ylabel='Quantidade')"
      ],
      "metadata": {
        "colab": {
          "base_uri": "https://localhost:8080/",
          "height": 481
        },
        "id": "rQIGgR4eJKe6",
        "outputId": "b2eb0a0a-73da-4277-e4d9-06e2abb143db"
      },
      "execution_count": 83,
      "outputs": [
        {
          "output_type": "display_data",
          "data": {
            "text/plain": [
              "<Figure size 640x480 with 1 Axes>"
            ],
            "image/png": "[encoded data removed]"
          },
          "metadata": {}
        }
      ]
    },
    {
      "cell_type": "markdown",
      "source": [
        "O concorrente não tem à disposição muitos espaços compartilhados, eles são  raros, provavelmente reflete as preferências de consumo em Nova York."
      ],
      "metadata": {
        "id": "KSg8wMwCLYLE"
      }
    },
    {
      "cell_type": "markdown",
      "source": [
        "#### 2.3.4 Espaços por anfitrião"
      ],
      "metadata": {
        "id": "e-J8-RR6LxFJ"
      }
    },
    {
      "cell_type": "code",
      "source": [
        "top5 = df['host_id'].value_counts().head(5)\n",
        "top5_df = pd.DataFrame({\n",
        "    'host_id': top5_df.index.to_list(),\n",
        "    'host_name': [df[df['host_id'] == host_id]['host_name'].iloc[0] for host_id in top5_df.index],\n",
        "    'count': top5_df.values\n",
        "})\n",
        "\n",
        "with sns.axes_style('whitegrid'):\n",
        "  grafico = sns.barplot(\n",
        "      data=top5_df,\n",
        "      x='host_name',\n",
        "      y='count',\n",
        "      palette='rainbow')\n",
        "  grafico.set(title='Gráfico 3 - Tipos de espaço disponíveis',\n",
        "                xlabel='Anfitrião',\n",
        "                ylabel='Quantidade')"
      ],
      "metadata": {
        "colab": {
          "base_uri": "https://localhost:8080/",
          "height": 481
        },
        "id": "NXinHtbhLwt9",
        "outputId": "936ecda3-8a57-4ee8-92dc-409f05395b43"
      },
      "execution_count": 107,
      "outputs": [
        {
          "output_type": "display_data",
          "data": {
            "text/plain": [
              "<Figure size 640x480 with 1 Axes>"
            ],
            "image/png": "[encoded data removed]"
          },
          "metadata": {}
        }
      ]
    },
    {
      "cell_type": "markdown",
      "source": [
        "É possível ver uma ampla margem de vantagem com o anfitrião *Sonder (NYC)* e *Blueground*. Essas são empresas especializadas em alugar espaços em aplicativos.\n",
        "\n",
        "source: [Blueground](https://www.theblueground.com/)\n",
        "        [Sonder](https://www.sonder.com/about)"
      ],
      "metadata": {
        "id": "dNVS2_F5REUl"
      }
    },
    {
      "cell_type": "markdown",
      "source": [
        "###**2.4 Correlação dos dados**"
      ],
      "metadata": {
        "id": "kX0mqdluSVl9"
      }
    },
    {
      "cell_type": "code",
      "source": [
        "corr_df = num_data_df.corr(method='pearson', numeric_only=True)\n",
        "\n",
        "# Criando um numpy array identico (like) a corr_df e preenchido com zeros, ele será usado para eliminar a parte triangular superio da matriz de correlação.\n",
        "mask = np.zeros_like(corr_df)\n",
        "\n",
        "# Função do pacote NumPy que dado um array ou matriz (quadrada), seleciona a parte triângular superior.\n",
        "mask[np.triu_indices_from(mask)] = True\n",
        "\n",
        "# Gerando gráfico\n",
        "sns.heatmap(corr_df, cmap='RdYlGn', vmax=1.0, vmin=-1.0 , mask = mask, linewidths=2, annot=True, fmt=\".2f\")\n",
        "plt.xticks(rotation=90)\n",
        "plt.show()"
      ],
      "metadata": {
        "colab": {
          "base_uri": "https://localhost:8080/",
          "height": 651
        },
        "id": "HQgND0wrUMkl",
        "outputId": "68f97b96-07b2-41d6-99d4-8228076f988e"
      },
      "execution_count": 124,
      "outputs": [
        {
          "output_type": "display_data",
          "data": {
            "text/plain": [
              "<Figure size 640x480 with 2 Axes>"
            ],
            "image/png": "[encoded data removed]"
          },
          "metadata": {}
        }
      ]
    },
    {
      "cell_type": "markdown",
      "source": [
        "Analisando a matriz de correlação, é possível notar que os dados não tem uma correlação clara, somente os dados sobre *review* tem uma fraca correlação. Isso irá dificultar o processo de predição."
      ],
      "metadata": {
        "id": "rNPXsKvzWFIb"
      }
    },
    {
      "cell_type": "markdown",
      "source": [
        "### 2.5 Gere hipóteses de negócio com base na análise dos dados"
      ],
      "metadata": {
        "id": "QJaTnsuYXKio"
      }
    },
    {
      "cell_type": "code",
      "source": [
        "!wget https://github.com/carneiro-fernando/lighthouse/raw/main/datasource/nymc.shp\n",
        "!wget https://github.com/carneiro-fernando/lighthouse/raw/main/datasource/nymc.shx"
      ],
      "metadata": {
        "colab": {
          "base_uri": "https://localhost:8080/"
        },
        "id": "w_H3gH99Yv2h",
        "outputId": "bb8c1fc2-1370-4e8e-e0c2-306ae4718042"
      },
      "execution_count": 130,
      "outputs": [
        {
          "output_type": "stream",
          "name": "stdout",
          "text": [
            "--2024-02-07 02:30:52--  https://github.com/carneiro-fernando/lighthouse/raw/main/datasource/nymc.shp\n",
            "Resolving github.com (github.com)... 140.82.112.3\n",
            "Connecting to github.com (github.com)|140.82.112.3|:443... connected.\n",
            "HTTP request sent, awaiting response... 302 Found\n",
            "Location: https://raw.githubusercontent.com/carneiro-fernando/lighthouse/main/datasource/nymc.shp [following]\n",
            "--2024-02-07 02:30:52--  https://raw.githubusercontent.com/carneiro-fernando/lighthouse/main/datasource/nymc.shp\n",
            "Resolving raw.githubusercontent.com (raw.githubusercontent.com)... 185.199.111.133, 185.199.108.133, 185.199.109.133, ...\n",
            "Connecting to raw.githubusercontent.com (raw.githubusercontent.com)|185.199.111.133|:443... connected.\n",
            "HTTP request sent, awaiting response... 200 OK\n",
            "Length: 1154516 (1.1M) [application/octet-stream]\n",
            "Saving to: ‘nymc.shp.1’\n",
            "\n",
            "nymc.shp.1          100%[===================>]   1.10M  --.-KB/s    in 0.04s   \n",
            "\n",
            "2024-02-07 02:30:52 (30.2 MB/s) - ‘nymc.shp.1’ saved [1154516/1154516]\n",
            "\n",
            "--2024-02-07 02:30:52--  https://github.com/carneiro-fernando/lighthouse/raw/main/datasource/nymc.shx\n",
            "Resolving github.com (github.com)... 140.82.112.3\n",
            "Connecting to github.com (github.com)|140.82.112.3|:443... connected.\n",
            "HTTP request sent, awaiting response... 302 Found\n",
            "Location: https://raw.githubusercontent.com/carneiro-fernando/lighthouse/main/datasource/nymc.shx [following]\n",
            "--2024-02-07 02:30:53--  https://raw.githubusercontent.com/carneiro-fernando/lighthouse/main/datasource/nymc.shx\n",
            "Resolving raw.githubusercontent.com (raw.githubusercontent.com)... 185.199.108.133, 185.199.109.133, 185.199.110.133, ...\n",
            "Connecting to raw.githubusercontent.com (raw.githubusercontent.com)|185.199.108.133|:443... connected.\n",
            "HTTP request sent, awaiting response... 200 OK\n",
            "Length: 324 [application/octet-stream]\n",
            "Saving to: ‘nymc.shx’\n",
            "\n",
            "nymc.shx            100%[===================>]     324  --.-KB/s    in 0s      \n",
            "\n",
            "2024-02-07 02:30:53 (23.5 MB/s) - ‘nymc.shx’ saved [324/324]\n",
            "\n"
          ]
        }
      ]
    },
    {
      "cell_type": "code",
      "source": [
        "nyc_map = geopandas.read_file(\"/content/nymc.shp\")"
      ],
      "metadata": {
        "id": "6Zq7zUEbXOQw"
      },
      "execution_count": 134,
      "outputs": []
    },
    {
      "cell_type": "code",
      "source": [
        "import geopandas as gpd\n",
        "import matplotlib.pyplot as plt\n",
        "\n",
        "# Carregar o shapefile do mapa de Nova York\n",
        "nyc_map = gpd.read_file(\"/content/nymc.shp\")\n",
        "\n",
        "# Carregar o DataFrame contendo as coordenadas\n",
        "# Supondo que seu DataFrame seja chamado 'df' e contenha as colunas 'latitude' e 'longitude'\n",
        "# Substitua 'df' pelo nome do seu DataFrame, se necessário\n",
        "# Substitua 'latitude' e 'longitude' pelos nomes das colunas no seu DataFrame, se necessário\n",
        "# Certifique-se de que as coordenadas estão no mesmo sistema de referência espacial (SRS) que o shapefile\n",
        "# Se não estiverem, você pode converter usando o método .to_crs() do geopandas\n",
        "#nyc_map = nyc_map.to_crs(nyc_map.crs)\n",
        "# Mas isso só é necessário se o SRS do DataFrame for diferente do SRS do shapefile\n",
        "plt.figure(figsize=(10, 10))  # Define o tamanho da figura\n",
        "ax = nyc_map.plot(color='lightgrey', edgecolor='black')  # Plotar o mapa de Nova York\n",
        "\n",
        "# Plotar os pontos do DataFrame em cima do mapa\n",
        "# Substitua 'df' pelo nome do seu DataFrame, se necessário\n",
        "# Substitua 'latitude' e 'longitude' pelos nomes das colunas no seu DataFrame, se necessário\n",
        "df.plot(ax=ax, kind='scatter', x='longitude', y='latitude', color='red', alpha=0.5, s=5)\n",
        "\n",
        "# Adicionar título e rótulos dos eixos\n",
        "plt.title('Mapa de Nova York com Pontos de Coordenadas')\n",
        "plt.xlabel('Longitude')\n",
        "plt.ylabel('Latitude')\n",
        "\n",
        "# Mostrar o gráfico\n",
        "plt.show()\n"
      ],
      "metadata": {
        "colab": {
          "base_uri": "https://localhost:8080/",
          "height": 422
        },
        "id": "I_RqmmrgZija",
        "outputId": "b22c656b-0e4c-4639-ce02-c65edb576355"
      },
      "execution_count": 142,
      "outputs": [
        {
          "output_type": "error",
          "ename": "ValueError",
          "evalue": "Cannot transform naive geometries.  Please set a crs on the object first.",
          "traceback": [
            "\u001b[0;31m---------------------------------------------------------------------------\u001b[0m",
            "\u001b[0;31mValueError\u001b[0m                                Traceback (most recent call last)",
            "\u001b[0;32m<ipython-input-142-f0a3144462e6>\u001b[0m in \u001b[0;36m<cell line: 13>\u001b[0;34m()\u001b[0m\n\u001b[1;32m     11\u001b[0m \u001b[0;31m# Certifique-se de que as coordenadas estão no mesmo sistema de referência espacial (SRS) que o shapefile\u001b[0m\u001b[0;34m\u001b[0m\u001b[0;34m\u001b[0m\u001b[0m\n\u001b[1;32m     12\u001b[0m \u001b[0;31m# Se não estiverem, você pode converter usando o método .to_crs() do geopandas\u001b[0m\u001b[0;34m\u001b[0m\u001b[0;34m\u001b[0m\u001b[0m\n\u001b[0;32m---> 13\u001b[0;31m \u001b[0mnyc_map\u001b[0m \u001b[0;34m=\u001b[0m \u001b[0mnyc_map\u001b[0m\u001b[0;34m.\u001b[0m\u001b[0mto_crs\u001b[0m\u001b[0;34m(\u001b[0m\u001b[0mnyc_map\u001b[0m\u001b[0;34m.\u001b[0m\u001b[0mcrs\u001b[0m\u001b[0;34m)\u001b[0m\u001b[0;34m\u001b[0m\u001b[0;34m\u001b[0m\u001b[0m\n\u001b[0m\u001b[1;32m     14\u001b[0m \u001b[0;31m# Mas isso só é necessário se o SRS do DataFrame for diferente do SRS do shapefile\u001b[0m\u001b[0;34m\u001b[0m\u001b[0;34m\u001b[0m\u001b[0m\n\u001b[1;32m     15\u001b[0m \u001b[0mplt\u001b[0m\u001b[0;34m.\u001b[0m\u001b[0mfigure\u001b[0m\u001b[0;34m(\u001b[0m\u001b[0mfigsize\u001b[0m\u001b[0;34m=\u001b[0m\u001b[0;34m(\u001b[0m\u001b[0;36m10\u001b[0m\u001b[0;34m,\u001b[0m \u001b[0;36m10\u001b[0m\u001b[0;34m)\u001b[0m\u001b[0;34m)\u001b[0m  \u001b[0;31m# Define o tamanho da figura\u001b[0m\u001b[0;34m\u001b[0m\u001b[0;34m\u001b[0m\u001b[0m\n",
            "\u001b[0;32m/usr/local/lib/python3.10/dist-packages/geopandas/geodataframe.py\u001b[0m in \u001b[0;36mto_crs\u001b[0;34m(self, crs, epsg, inplace)\u001b[0m\n\u001b[1;32m   1422\u001b[0m         \u001b[0;32melse\u001b[0m\u001b[0;34m:\u001b[0m\u001b[0;34m\u001b[0m\u001b[0;34m\u001b[0m\u001b[0m\n\u001b[1;32m   1423\u001b[0m             \u001b[0mdf\u001b[0m \u001b[0;34m=\u001b[0m \u001b[0mself\u001b[0m\u001b[0;34m.\u001b[0m\u001b[0mcopy\u001b[0m\u001b[0;34m(\u001b[0m\u001b[0;34m)\u001b[0m\u001b[0;34m\u001b[0m\u001b[0;34m\u001b[0m\u001b[0m\n\u001b[0;32m-> 1424\u001b[0;31m         \u001b[0mgeom\u001b[0m \u001b[0;34m=\u001b[0m \u001b[0mdf\u001b[0m\u001b[0;34m.\u001b[0m\u001b[0mgeometry\u001b[0m\u001b[0;34m.\u001b[0m\u001b[0mto_crs\u001b[0m\u001b[0;34m(\u001b[0m\u001b[0mcrs\u001b[0m\u001b[0;34m=\u001b[0m\u001b[0mcrs\u001b[0m\u001b[0;34m,\u001b[0m \u001b[0mepsg\u001b[0m\u001b[0;34m=\u001b[0m\u001b[0mepsg\u001b[0m\u001b[0;34m)\u001b[0m\u001b[0;34m\u001b[0m\u001b[0;34m\u001b[0m\u001b[0m\n\u001b[0m\u001b[1;32m   1425\u001b[0m         \u001b[0mdf\u001b[0m\u001b[0;34m.\u001b[0m\u001b[0mgeometry\u001b[0m \u001b[0;34m=\u001b[0m \u001b[0mgeom\u001b[0m\u001b[0;34m\u001b[0m\u001b[0;34m\u001b[0m\u001b[0m\n\u001b[1;32m   1426\u001b[0m         \u001b[0;32mif\u001b[0m \u001b[0;32mnot\u001b[0m \u001b[0minplace\u001b[0m\u001b[0;34m:\u001b[0m\u001b[0;34m\u001b[0m\u001b[0;34m\u001b[0m\u001b[0m\n",
            "\u001b[0;32m/usr/local/lib/python3.10/dist-packages/geopandas/geoseries.py\u001b[0m in \u001b[0;36mto_crs\u001b[0;34m(self, crs, epsg)\u001b[0m\n\u001b[1;32m   1132\u001b[0m         \"\"\"\n\u001b[1;32m   1133\u001b[0m         return GeoSeries(\n\u001b[0;32m-> 1134\u001b[0;31m             \u001b[0mself\u001b[0m\u001b[0;34m.\u001b[0m\u001b[0mvalues\u001b[0m\u001b[0;34m.\u001b[0m\u001b[0mto_crs\u001b[0m\u001b[0;34m(\u001b[0m\u001b[0mcrs\u001b[0m\u001b[0;34m=\u001b[0m\u001b[0mcrs\u001b[0m\u001b[0;34m,\u001b[0m \u001b[0mepsg\u001b[0m\u001b[0;34m=\u001b[0m\u001b[0mepsg\u001b[0m\u001b[0;34m)\u001b[0m\u001b[0;34m,\u001b[0m \u001b[0mindex\u001b[0m\u001b[0;34m=\u001b[0m\u001b[0mself\u001b[0m\u001b[0;34m.\u001b[0m\u001b[0mindex\u001b[0m\u001b[0;34m,\u001b[0m \u001b[0mname\u001b[0m\u001b[0;34m=\u001b[0m\u001b[0mself\u001b[0m\u001b[0;34m.\u001b[0m\u001b[0mname\u001b[0m\u001b[0;34m\u001b[0m\u001b[0;34m\u001b[0m\u001b[0m\n\u001b[0m\u001b[1;32m   1135\u001b[0m         )\n\u001b[1;32m   1136\u001b[0m \u001b[0;34m\u001b[0m\u001b[0m\n",
            "\u001b[0;32m/usr/local/lib/python3.10/dist-packages/geopandas/array.py\u001b[0m in \u001b[0;36mto_crs\u001b[0;34m(self, crs, epsg)\u001b[0m\n\u001b[1;32m    790\u001b[0m         \"\"\"\n\u001b[1;32m    791\u001b[0m         \u001b[0;32mif\u001b[0m \u001b[0mself\u001b[0m\u001b[0;34m.\u001b[0m\u001b[0mcrs\u001b[0m \u001b[0;32mis\u001b[0m \u001b[0;32mNone\u001b[0m\u001b[0;34m:\u001b[0m\u001b[0;34m\u001b[0m\u001b[0;34m\u001b[0m\u001b[0m\n\u001b[0;32m--> 792\u001b[0;31m             raise ValueError(\n\u001b[0m\u001b[1;32m    793\u001b[0m                 \u001b[0;34m\"Cannot transform naive geometries.  \"\u001b[0m\u001b[0;34m\u001b[0m\u001b[0;34m\u001b[0m\u001b[0m\n\u001b[1;32m    794\u001b[0m                 \u001b[0;34m\"Please set a crs on the object first.\"\u001b[0m\u001b[0;34m\u001b[0m\u001b[0;34m\u001b[0m\u001b[0m\n",
            "\u001b[0;31mValueError\u001b[0m: Cannot transform naive geometries.  Please set a crs on the object first."
          ]
        }
      ]
    },
    {
      "cell_type": "code",
      "source": [
        "# prompt: Crie um mapa usando os poligonos do 'nyc_map' e as coordenadas ('latitude' e 'longitude') no dataframe\n",
        "\n",
        "fig, ax = plt.subplots(figsize=(15, 10))\n",
        "nyc_map.plot(ax=ax, color='white', edgecolor='black')\n",
        "df.plot(ax=ax, kind='scatter', x='longitude', y='latitude', color='red', s=10)\n",
        "plt.title('Localização dos imóveis')\n",
        "plt.show()\n"
      ],
      "metadata": {
        "colab": {
          "base_uri": "https://localhost:8080/",
          "height": 309
        },
        "id": "Zc5zWDwJZ9V0",
        "outputId": "b6943c72-9f25-432a-ea84-ba13d282094b"
      },
      "execution_count": 139,
      "outputs": [
        {
          "output_type": "display_data",
          "data": {
            "text/plain": [
              "<Figure size 1000x1000 with 1 Axes>"
            ],
            "image/png": "[encoded data removed]"
          },
          "metadata": {}
        }
      ]
    },
    {
      "cell_type": "code",
      "source": [
        "fig, ax = plt.subplots(figsize=(15, 10))\n",
        "nyc_map.plot(ax=ax, color='white', edgecolor='black')\n",
        "\n",
        "df.plot(ax=ax, kind='scatter', x='longitude', y='latitude', color='red')\n",
        "\n",
        "plt.title('Localização dos imóveis')\n",
        "plt.show()"
      ],
      "metadata": {
        "colab": {
          "base_uri": "https://localhost:8080/",
          "height": 408
        },
        "id": "HL5TZ-DQcF24",
        "outputId": "fdc2c954-c029-4a51-ea7b-9404aeec2fca"
      },
      "execution_count": 145,
      "outputs": [
        {
          "output_type": "display_data",
          "data": {
            "text/plain": [
              "<Figure size 1500x1000 with 1 Axes>"
            ],
            "image/png": "[encoded data removed]"
          },
          "metadata": {}
        }
      ]
    },
    {
      "cell_type": "code",
      "source": [],
      "metadata": {
        "id": "-jRWjiMOcGRb"
      },
      "execution_count": null,
      "outputs": []
    },
    {
      "source": [
        "print(nyc_map.crs)"
      ],
      "cell_type": "code",
      "metadata": {
        "colab": {
          "base_uri": "https://localhost:8080/"
        },
        "id": "4HpNiaDZco2S",
        "outputId": "cb653878-04cc-49eb-b51e-0cb70cecf04c"
      },
      "execution_count": 148,
      "outputs": [
        {
          "output_type": "stream",
          "name": "stdout",
          "text": [
            "None\n"
          ]
        }
      ]
    },
    {
      "cell_type": "code",
      "source": [],
      "metadata": {
        "id": "47MAz_q0cpGg"
      },
      "execution_count": null,
      "outputs": []
    }
  ]
}